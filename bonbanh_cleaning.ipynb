{
 "cells": [
  {
   "cell_type": "markdown",
   "metadata": {},
   "source": [
    "#### Import libraries "
   ]
  },
  {
   "cell_type": "code",
   "execution_count": 100,
   "metadata": {},
   "outputs": [],
   "source": [
    "import pandas as pd\n",
    "import numpy as np"
   ]
  },
  {
   "cell_type": "markdown",
   "metadata": {},
   "source": [
    "#### Read data from file csv"
   ]
  },
  {
   "cell_type": "code",
   "execution_count": 101,
   "metadata": {},
   "outputs": [
    {
     "data": {
      "text/html": [
       "<div>\n",
       "<style scoped>\n",
       "    .dataframe tbody tr th:only-of-type {\n",
       "        vertical-align: middle;\n",
       "    }\n",
       "\n",
       "    .dataframe tbody tr th {\n",
       "        vertical-align: top;\n",
       "    }\n",
       "\n",
       "    .dataframe thead th {\n",
       "        text-align: right;\n",
       "    }\n",
       "</style>\n",
       "<table border=\"1\" class=\"dataframe\">\n",
       "  <thead>\n",
       "    <tr style=\"text-align: right;\">\n",
       "      <th></th>\n",
       "      <th>Tên xe</th>\n",
       "      <th>Năm sản xuất</th>\n",
       "      <th>Tình trạng</th>\n",
       "      <th>Số km đã đi</th>\n",
       "      <th>Xuất xứ</th>\n",
       "      <th>Kiểu dáng</th>\n",
       "      <th>Hộp số</th>\n",
       "      <th>Động cơ</th>\n",
       "      <th>Màu ngoại thất</th>\n",
       "      <th>Màu nội thất</th>\n",
       "      <th>Dẫn động</th>\n",
       "      <th>Số chỗ ngồi</th>\n",
       "      <th>Giá xe</th>\n",
       "    </tr>\n",
       "  </thead>\n",
       "  <tbody>\n",
       "    <tr>\n",
       "      <th>0</th>\n",
       "      <td>Xe Peugeot 2008 Active 1.2 AT</td>\n",
       "      <td>2022</td>\n",
       "      <td>Xe đã dùng</td>\n",
       "      <td>30,000 Km</td>\n",
       "      <td>Lắp ráp trong nước</td>\n",
       "      <td>Crossover</td>\n",
       "      <td>Số tự động</td>\n",
       "      <td>Xăng  1.2 L</td>\n",
       "      <td>Đỏ</td>\n",
       "      <td>Đen</td>\n",
       "      <td>FWD - Dẫn động cầu trước</td>\n",
       "      <td>5 chỗ</td>\n",
       "      <td>679 Triệu</td>\n",
       "    </tr>\n",
       "    <tr>\n",
       "      <th>1</th>\n",
       "      <td>Xe Mercedes Benz C class C300 AMG</td>\n",
       "      <td>2014</td>\n",
       "      <td>Xe đã dùng</td>\n",
       "      <td>90,000 Km</td>\n",
       "      <td>Lắp ráp trong nước</td>\n",
       "      <td>Sedan</td>\n",
       "      <td>Số tự động</td>\n",
       "      <td>Xăng  3.0 L</td>\n",
       "      <td>Trắng</td>\n",
       "      <td>Đen</td>\n",
       "      <td>RFD - Dẫn động cầu sau</td>\n",
       "      <td>5 chỗ</td>\n",
       "      <td>499 Triệu</td>\n",
       "    </tr>\n",
       "    <tr>\n",
       "      <th>2</th>\n",
       "      <td>Xe Mercedes Benz E class E200 Exclusive</td>\n",
       "      <td>2022</td>\n",
       "      <td>Xe đã dùng</td>\n",
       "      <td>500 Km</td>\n",
       "      <td>Lắp ráp trong nước</td>\n",
       "      <td>Sedan</td>\n",
       "      <td>Số tự động</td>\n",
       "      <td>Xăng  2.0 L</td>\n",
       "      <td>Đen</td>\n",
       "      <td>Nâu</td>\n",
       "      <td>RFD - Dẫn động cầu sau</td>\n",
       "      <td>5 chỗ</td>\n",
       "      <td>2 Tỷ 229 Triệu</td>\n",
       "    </tr>\n",
       "    <tr>\n",
       "      <th>3</th>\n",
       "      <td>Xe Mercedes Benz C class C200 Avantgarde</td>\n",
       "      <td>2021</td>\n",
       "      <td>Xe đã dùng</td>\n",
       "      <td>80 Km</td>\n",
       "      <td>Lắp ráp trong nước</td>\n",
       "      <td>Sedan</td>\n",
       "      <td>Số tự động</td>\n",
       "      <td>Xăng  1.5 L</td>\n",
       "      <td>Xanh</td>\n",
       "      <td>Nâu</td>\n",
       "      <td>RFD - Dẫn động cầu sau</td>\n",
       "      <td>5 chỗ</td>\n",
       "      <td>1 Tỷ 399 Triệu</td>\n",
       "    </tr>\n",
       "    <tr>\n",
       "      <th>4</th>\n",
       "      <td>Xe Mercedes Benz E class E200 Exclusive</td>\n",
       "      <td>2022</td>\n",
       "      <td>Xe đã dùng</td>\n",
       "      <td>8,888 Km</td>\n",
       "      <td>Lắp ráp trong nước</td>\n",
       "      <td>Sedan</td>\n",
       "      <td>Số tự động</td>\n",
       "      <td>Xăng  2.0 L</td>\n",
       "      <td>Trắng</td>\n",
       "      <td>Nâu</td>\n",
       "      <td>RFD - Dẫn động cầu sau</td>\n",
       "      <td>5 chỗ</td>\n",
       "      <td>1 Tỷ 788 Triệu</td>\n",
       "    </tr>\n",
       "    <tr>\n",
       "      <th>...</th>\n",
       "      <td>...</td>\n",
       "      <td>...</td>\n",
       "      <td>...</td>\n",
       "      <td>...</td>\n",
       "      <td>...</td>\n",
       "      <td>...</td>\n",
       "      <td>...</td>\n",
       "      <td>...</td>\n",
       "      <td>...</td>\n",
       "      <td>...</td>\n",
       "      <td>...</td>\n",
       "      <td>...</td>\n",
       "      <td>...</td>\n",
       "    </tr>\n",
       "    <tr>\n",
       "      <th>18358</th>\n",
       "      <td>Xe Kia Morning LX 1.0 AT</td>\n",
       "      <td>2009</td>\n",
       "      <td>Xe đã dùng</td>\n",
       "      <td>1,111 Km</td>\n",
       "      <td>Nhập khẩu</td>\n",
       "      <td>Hatchback</td>\n",
       "      <td>Số tự động</td>\n",
       "      <td>Xăng  1.0 L</td>\n",
       "      <td>Bạc</td>\n",
       "      <td>Kem</td>\n",
       "      <td>FWD - Dẫn động cầu trước</td>\n",
       "      <td>5 chỗ</td>\n",
       "      <td>158 Triệu</td>\n",
       "    </tr>\n",
       "    <tr>\n",
       "      <th>18359</th>\n",
       "      <td>Xe Hyundai Accent 1.4 MT</td>\n",
       "      <td>2018</td>\n",
       "      <td>Xe đã dùng</td>\n",
       "      <td>80,000 Km</td>\n",
       "      <td>Lắp ráp trong nước</td>\n",
       "      <td>Sedan</td>\n",
       "      <td>Số tay</td>\n",
       "      <td>Xăng  1.4 L</td>\n",
       "      <td>Trắng</td>\n",
       "      <td>Kem</td>\n",
       "      <td>FWD - Dẫn động cầu trước</td>\n",
       "      <td>5 chỗ</td>\n",
       "      <td>328 Triệu</td>\n",
       "    </tr>\n",
       "    <tr>\n",
       "      <th>18360</th>\n",
       "      <td>Xe Toyota Vios G 1.5 CVT</td>\n",
       "      <td>2023</td>\n",
       "      <td>Xe mới</td>\n",
       "      <td>Xe mới</td>\n",
       "      <td>Lắp ráp trong nước</td>\n",
       "      <td>Sedan</td>\n",
       "      <td>Số tự động</td>\n",
       "      <td>Xăng  1.5 L</td>\n",
       "      <td>Trắng</td>\n",
       "      <td>Đen</td>\n",
       "      <td>FWD - Dẫn động cầu trước</td>\n",
       "      <td>5 chỗ</td>\n",
       "      <td>592 Triệu</td>\n",
       "    </tr>\n",
       "    <tr>\n",
       "      <th>18361</th>\n",
       "      <td>Xe Mitsubishi Attrage 1.2 CVT</td>\n",
       "      <td>2023</td>\n",
       "      <td>Xe mới</td>\n",
       "      <td>Xe mới</td>\n",
       "      <td>Nhập khẩu</td>\n",
       "      <td>Sedan</td>\n",
       "      <td>Số tự động</td>\n",
       "      <td>Xăng  1.2 L</td>\n",
       "      <td>Xám</td>\n",
       "      <td>Đen</td>\n",
       "      <td>FWD - Dẫn động cầu trước</td>\n",
       "      <td>5 chỗ</td>\n",
       "      <td>465 Triệu</td>\n",
       "    </tr>\n",
       "    <tr>\n",
       "      <th>18362</th>\n",
       "      <td>Xe Toyota Camry 2.5Q</td>\n",
       "      <td>2020</td>\n",
       "      <td>Xe đã dùng</td>\n",
       "      <td>68,000 Km</td>\n",
       "      <td>Nhập khẩu</td>\n",
       "      <td>Sedan</td>\n",
       "      <td>Số tự động</td>\n",
       "      <td>Xăng  2.5 L</td>\n",
       "      <td>Đỏ</td>\n",
       "      <td>Kem</td>\n",
       "      <td>FWD - Dẫn động cầu trước</td>\n",
       "      <td>5 chỗ</td>\n",
       "      <td>879 Triệu</td>\n",
       "    </tr>\n",
       "  </tbody>\n",
       "</table>\n",
       "<p>18363 rows × 13 columns</p>\n",
       "</div>"
      ],
      "text/plain": [
       "                                         Tên xe  Năm sản xuất  Tình trạng   \n",
       "0                 Xe Peugeot 2008 Active 1.2 AT          2022  Xe đã dùng  \\\n",
       "1             Xe Mercedes Benz C class C300 AMG          2014  Xe đã dùng   \n",
       "2       Xe Mercedes Benz E class E200 Exclusive          2022  Xe đã dùng   \n",
       "3      Xe Mercedes Benz C class C200 Avantgarde          2021  Xe đã dùng   \n",
       "4       Xe Mercedes Benz E class E200 Exclusive          2022  Xe đã dùng   \n",
       "...                                         ...           ...         ...   \n",
       "18358                  Xe Kia Morning LX 1.0 AT          2009  Xe đã dùng   \n",
       "18359                  Xe Hyundai Accent 1.4 MT          2018  Xe đã dùng   \n",
       "18360                  Xe Toyota Vios G 1.5 CVT          2023      Xe mới   \n",
       "18361             Xe Mitsubishi Attrage 1.2 CVT          2023      Xe mới   \n",
       "18362                      Xe Toyota Camry 2.5Q          2020  Xe đã dùng   \n",
       "\n",
       "      Số km đã đi             Xuất xứ  Kiểu dáng      Hộp số      Động cơ   \n",
       "0       30,000 Km  Lắp ráp trong nước  Crossover  Số tự động  Xăng  1.2 L  \\\n",
       "1       90,000 Km  Lắp ráp trong nước      Sedan  Số tự động  Xăng  3.0 L   \n",
       "2          500 Km  Lắp ráp trong nước      Sedan  Số tự động  Xăng  2.0 L   \n",
       "3           80 Km  Lắp ráp trong nước      Sedan  Số tự động  Xăng  1.5 L   \n",
       "4        8,888 Km  Lắp ráp trong nước      Sedan  Số tự động  Xăng  2.0 L   \n",
       "...           ...                 ...        ...         ...          ...   \n",
       "18358    1,111 Km           Nhập khẩu  Hatchback  Số tự động  Xăng  1.0 L   \n",
       "18359   80,000 Km  Lắp ráp trong nước      Sedan      Số tay  Xăng  1.4 L   \n",
       "18360      Xe mới  Lắp ráp trong nước      Sedan  Số tự động  Xăng  1.5 L   \n",
       "18361      Xe mới           Nhập khẩu      Sedan  Số tự động  Xăng  1.2 L   \n",
       "18362   68,000 Km           Nhập khẩu      Sedan  Số tự động  Xăng  2.5 L   \n",
       "\n",
       "      Màu ngoại thất Màu nội thất                  Dẫn động Số chỗ ngồi   \n",
       "0                 Đỏ          Đen  FWD - Dẫn động cầu trước       5 chỗ  \\\n",
       "1              Trắng          Đen    RFD - Dẫn động cầu sau       5 chỗ   \n",
       "2                Đen          Nâu    RFD - Dẫn động cầu sau       5 chỗ   \n",
       "3               Xanh          Nâu    RFD - Dẫn động cầu sau       5 chỗ   \n",
       "4              Trắng          Nâu    RFD - Dẫn động cầu sau       5 chỗ   \n",
       "...              ...          ...                       ...         ...   \n",
       "18358            Bạc          Kem  FWD - Dẫn động cầu trước       5 chỗ   \n",
       "18359          Trắng          Kem  FWD - Dẫn động cầu trước       5 chỗ   \n",
       "18360          Trắng          Đen  FWD - Dẫn động cầu trước       5 chỗ   \n",
       "18361            Xám          Đen  FWD - Dẫn động cầu trước       5 chỗ   \n",
       "18362             Đỏ          Kem  FWD - Dẫn động cầu trước       5 chỗ   \n",
       "\n",
       "               Giá xe  \n",
       "0           679 Triệu  \n",
       "1           499 Triệu  \n",
       "2      2 Tỷ 229 Triệu  \n",
       "3      1 Tỷ 399 Triệu  \n",
       "4      1 Tỷ 788 Triệu  \n",
       "...               ...  \n",
       "18358       158 Triệu  \n",
       "18359       328 Triệu  \n",
       "18360       592 Triệu  \n",
       "18361       465 Triệu  \n",
       "18362       879 Triệu  \n",
       "\n",
       "[18363 rows x 13 columns]"
      ]
     },
     "execution_count": 101,
     "metadata": {},
     "output_type": "execute_result"
    }
   ],
   "source": [
    "data = pd.read_csv('Data/BonBanh.csv')\n",
    "data"
   ]
  },
  {
   "cell_type": "markdown",
   "metadata": {},
   "source": [
    "#### Change value *Xe mới* in into *0 km* and remove *km* in other values in **Số km đã đi** column"
   ]
  },
  {
   "cell_type": "code",
   "execution_count": 102,
   "metadata": {},
   "outputs": [],
   "source": [
    "data['Số km đã đi'] = data['Số km đã đi'].replace('Xe mới', '0 Km')\n",
    "data['Số km đã đi'] = data['Số km đã đi'].str.replace('Km', '')\n",
    "def change_to_int(so_km):\n",
    "    km = 0\n",
    "    so_km = [int(x) for x in so_km.split(',')]\n",
    "    n = len(so_km)\n",
    "    for i in range(n):\n",
    "        km += 1000**(n-i-1)*so_km[i] \n",
    "    return km\n",
    "data['Số km đã đi'] = data['Số km đã đi'].apply(change_to_int)\n",
    "data['Số km đã đi'] = data['Số km đã đi'].astype('int64')"
   ]
  },
  {
   "cell_type": "markdown",
   "metadata": {},
   "source": [
    "#### Take **Hãng xe** column from **Tên xe** column"
   ]
  },
  {
   "cell_type": "code",
   "execution_count": 103,
   "metadata": {},
   "outputs": [],
   "source": [
    "data = data.rename(columns = {'Tên xe': 'Hãng xe'})\n",
    "data['Hãng xe'] = data['Hãng xe'].str.replace('Xe ', '')\n",
    "check =  lambda x : ' '.join(x.split()[:1]) if x.split()[0] != \"Mercedes\" else ' '.join(x.split()[:2])\n",
    "data['Hãng xe'] = data['Hãng xe'].apply(check)"
   ]
  },
  {
   "cell_type": "markdown",
   "metadata": {},
   "source": [
    "#### Take **Loại nhiên liệu** column from **Động cơ** column "
   ]
  },
  {
   "cell_type": "code",
   "execution_count": 104,
   "metadata": {},
   "outputs": [],
   "source": [
    "data = data.rename(columns = {'Động cơ': 'Nhiên liệu'})\n",
    "data['Nhiên liệu'] = data['Nhiên liệu'].str.extract(r'(Xăng|Dầu|Hybrid|Điện)')"
   ]
  },
  {
   "cell_type": "markdown",
   "metadata": {},
   "source": [
    "#### Remove *Chỗ* in all values in **Số chỗ ngồi** column"
   ]
  },
  {
   "cell_type": "code",
   "execution_count": 105,
   "metadata": {},
   "outputs": [],
   "source": [
    "data['Số chỗ ngồi'] = data['Số chỗ ngồi'].str.replace('chỗ', '')\n",
    "data['Số chỗ ngồi'] = data['Số chỗ ngồi'].replace(0, np.nan)\n",
    "change = lambda x : int(x)\n",
    "data['Số chỗ ngồi'] = data['Số chỗ ngồi'].apply(change)"
   ]
  },
  {
   "cell_type": "markdown",
   "metadata": {},
   "source": [
    "#### Change value in **Giá xe** column into *Triệu* unit"
   ]
  },
  {
   "cell_type": "code",
   "execution_count": 106,
   "metadata": {},
   "outputs": [],
   "source": [
    "data = data.rename(columns = {'Giá xe': 'Giá xe (triệu)'})\n",
    "def convert_price(price):\n",
    "    price = price.split(\" \")\n",
    "    if len(price) == 4:\n",
    "        return int(price[0])*1000 + int(price[2])\n",
    "    else:\n",
    "        if price[-1] == 'Tỷ':\n",
    "            return int(price[0]) * 1000\n",
    "        else:\n",
    "            return int(price[0])\n",
    "data['Giá xe (triệu)'] = data['Giá xe (triệu)'].apply(convert_price)"
   ]
  },
  {
   "cell_type": "markdown",
   "metadata": {},
   "source": [
    "#### Change value *-* into null"
   ]
  },
  {
   "cell_type": "code",
   "execution_count": 107,
   "metadata": {},
   "outputs": [],
   "source": [
    "for col in data:\n",
    "    data[col] = data[col].replace('-', np.nan)"
   ]
  },
  {
   "cell_type": "markdown",
   "metadata": {},
   "source": [
    "#### Drop unnecessary column"
   ]
  },
  {
   "cell_type": "code",
   "execution_count": 108,
   "metadata": {},
   "outputs": [],
   "source": [
    "data = data.drop('Màu nội thất', axis=1)\n",
    "data = data.drop('Màu ngoại thất', axis=1)\n",
    "data = data.drop('Dẫn động', axis=1)"
   ]
  },
  {
   "cell_type": "markdown",
   "metadata": {},
   "source": [
    "#### Remove missing values"
   ]
  },
  {
   "cell_type": "code",
   "execution_count": 109,
   "metadata": {},
   "outputs": [
    {
     "data": {
      "text/plain": [
       "Hãng xe           0\n",
       "Năm sản xuất      0\n",
       "Tình trạng        0\n",
       "Số km đã đi       0\n",
       "Xuất xứ           0\n",
       "Kiểu dáng         0\n",
       "Hộp số            7\n",
       "Nhiên liệu        5\n",
       "Số chỗ ngồi       0\n",
       "Giá xe (triệu)    0\n",
       "dtype: int64"
      ]
     },
     "execution_count": 109,
     "metadata": {},
     "output_type": "execute_result"
    }
   ],
   "source": [
    "data.isnull().sum()"
   ]
  },
  {
   "cell_type": "code",
   "execution_count": 110,
   "metadata": {},
   "outputs": [],
   "source": [
    "data = data.dropna()"
   ]
  },
  {
   "cell_type": "markdown",
   "metadata": {},
   "source": [
    "#### Export to file csv"
   ]
  },
  {
   "cell_type": "code",
   "execution_count": 111,
   "metadata": {},
   "outputs": [],
   "source": [
    "data.to_csv('Data/BonBanh_cleaned.csv', index=False)"
   ]
  }
 ],
 "metadata": {
  "kernelspec": {
   "display_name": "Python 3",
   "language": "python",
   "name": "python3"
  },
  "language_info": {
   "codemirror_mode": {
    "name": "ipython",
    "version": 3
   },
   "file_extension": ".py",
   "mimetype": "text/x-python",
   "name": "python",
   "nbconvert_exporter": "python",
   "pygments_lexer": "ipython3",
   "version": "3.10.4"
  }
 },
 "nbformat": 4,
 "nbformat_minor": 2
}
