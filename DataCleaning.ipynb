{
 "cells": [
  {
   "cell_type": "markdown",
   "metadata": {},
   "source": [
    "## Import libraries "
   ]
  },
  {
   "cell_type": "code",
   "execution_count": 151,
   "metadata": {},
   "outputs": [],
   "source": [
    "import pandas as pd\n",
    "import numpy as np"
   ]
  },
  {
   "cell_type": "markdown",
   "metadata": {},
   "source": [
    "## Convert BonBanh data and Chotot data to same format"
   ]
  },
  {
   "cell_type": "markdown",
   "metadata": {},
   "source": [
    "#### Read data from file csv"
   ]
  },
  {
   "cell_type": "code",
   "execution_count": 152,
   "metadata": {},
   "outputs": [
    {
     "data": {
      "text/html": [
       "<div>\n",
       "<style scoped>\n",
       "    .dataframe tbody tr th:only-of-type {\n",
       "        vertical-align: middle;\n",
       "    }\n",
       "\n",
       "    .dataframe tbody tr th {\n",
       "        vertical-align: top;\n",
       "    }\n",
       "\n",
       "    .dataframe thead th {\n",
       "        text-align: right;\n",
       "    }\n",
       "</style>\n",
       "<table border=\"1\" class=\"dataframe\">\n",
       "  <thead>\n",
       "    <tr style=\"text-align: right;\">\n",
       "      <th></th>\n",
       "      <th>Tên xe</th>\n",
       "      <th>Năm sản xuất</th>\n",
       "      <th>Tình trạng</th>\n",
       "      <th>Số km đã đi</th>\n",
       "      <th>Xuất xứ</th>\n",
       "      <th>Kiểu dáng</th>\n",
       "      <th>Hộp số</th>\n",
       "      <th>Động cơ</th>\n",
       "      <th>Màu ngoại thất</th>\n",
       "      <th>Màu nội thất</th>\n",
       "      <th>Dẫn động</th>\n",
       "      <th>Số chỗ ngồi</th>\n",
       "      <th>Giá xe</th>\n",
       "    </tr>\n",
       "  </thead>\n",
       "  <tbody>\n",
       "    <tr>\n",
       "      <th>0</th>\n",
       "      <td>Xe Peugeot 2008 Active 1.2 AT</td>\n",
       "      <td>2022</td>\n",
       "      <td>Xe đã dùng</td>\n",
       "      <td>30,000 Km</td>\n",
       "      <td>Lắp ráp trong nước</td>\n",
       "      <td>Crossover</td>\n",
       "      <td>Số tự động</td>\n",
       "      <td>Xăng  1.2 L</td>\n",
       "      <td>Đỏ</td>\n",
       "      <td>Đen</td>\n",
       "      <td>FWD - Dẫn động cầu trước</td>\n",
       "      <td>5 chỗ</td>\n",
       "      <td>679 Triệu</td>\n",
       "    </tr>\n",
       "    <tr>\n",
       "      <th>1</th>\n",
       "      <td>Xe Mercedes Benz C class C300 AMG</td>\n",
       "      <td>2014</td>\n",
       "      <td>Xe đã dùng</td>\n",
       "      <td>90,000 Km</td>\n",
       "      <td>Lắp ráp trong nước</td>\n",
       "      <td>Sedan</td>\n",
       "      <td>Số tự động</td>\n",
       "      <td>Xăng  3.0 L</td>\n",
       "      <td>Trắng</td>\n",
       "      <td>Đen</td>\n",
       "      <td>RFD - Dẫn động cầu sau</td>\n",
       "      <td>5 chỗ</td>\n",
       "      <td>499 Triệu</td>\n",
       "    </tr>\n",
       "    <tr>\n",
       "      <th>2</th>\n",
       "      <td>Xe Mercedes Benz E class E200 Exclusive</td>\n",
       "      <td>2022</td>\n",
       "      <td>Xe đã dùng</td>\n",
       "      <td>500 Km</td>\n",
       "      <td>Lắp ráp trong nước</td>\n",
       "      <td>Sedan</td>\n",
       "      <td>Số tự động</td>\n",
       "      <td>Xăng  2.0 L</td>\n",
       "      <td>Đen</td>\n",
       "      <td>Nâu</td>\n",
       "      <td>RFD - Dẫn động cầu sau</td>\n",
       "      <td>5 chỗ</td>\n",
       "      <td>2 Tỷ 229 Triệu</td>\n",
       "    </tr>\n",
       "    <tr>\n",
       "      <th>3</th>\n",
       "      <td>Xe Mercedes Benz C class C200 Avantgarde</td>\n",
       "      <td>2021</td>\n",
       "      <td>Xe đã dùng</td>\n",
       "      <td>80 Km</td>\n",
       "      <td>Lắp ráp trong nước</td>\n",
       "      <td>Sedan</td>\n",
       "      <td>Số tự động</td>\n",
       "      <td>Xăng  1.5 L</td>\n",
       "      <td>Xanh</td>\n",
       "      <td>Nâu</td>\n",
       "      <td>RFD - Dẫn động cầu sau</td>\n",
       "      <td>5 chỗ</td>\n",
       "      <td>1 Tỷ 399 Triệu</td>\n",
       "    </tr>\n",
       "    <tr>\n",
       "      <th>4</th>\n",
       "      <td>Xe Mercedes Benz E class E200 Exclusive</td>\n",
       "      <td>2022</td>\n",
       "      <td>Xe đã dùng</td>\n",
       "      <td>8,888 Km</td>\n",
       "      <td>Lắp ráp trong nước</td>\n",
       "      <td>Sedan</td>\n",
       "      <td>Số tự động</td>\n",
       "      <td>Xăng  2.0 L</td>\n",
       "      <td>Trắng</td>\n",
       "      <td>Nâu</td>\n",
       "      <td>RFD - Dẫn động cầu sau</td>\n",
       "      <td>5 chỗ</td>\n",
       "      <td>1 Tỷ 788 Triệu</td>\n",
       "    </tr>\n",
       "  </tbody>\n",
       "</table>\n",
       "</div>"
      ],
      "text/plain": [
       "                                     Tên xe  Năm sản xuất  Tình trạng   \n",
       "0             Xe Peugeot 2008 Active 1.2 AT          2022  Xe đã dùng  \\\n",
       "1         Xe Mercedes Benz C class C300 AMG          2014  Xe đã dùng   \n",
       "2   Xe Mercedes Benz E class E200 Exclusive          2022  Xe đã dùng   \n",
       "3  Xe Mercedes Benz C class C200 Avantgarde          2021  Xe đã dùng   \n",
       "4   Xe Mercedes Benz E class E200 Exclusive          2022  Xe đã dùng   \n",
       "\n",
       "  Số km đã đi             Xuất xứ  Kiểu dáng      Hộp số      Động cơ   \n",
       "0   30,000 Km  Lắp ráp trong nước  Crossover  Số tự động  Xăng  1.2 L  \\\n",
       "1   90,000 Km  Lắp ráp trong nước      Sedan  Số tự động  Xăng  3.0 L   \n",
       "2      500 Km  Lắp ráp trong nước      Sedan  Số tự động  Xăng  2.0 L   \n",
       "3       80 Km  Lắp ráp trong nước      Sedan  Số tự động  Xăng  1.5 L   \n",
       "4    8,888 Km  Lắp ráp trong nước      Sedan  Số tự động  Xăng  2.0 L   \n",
       "\n",
       "  Màu ngoại thất Màu nội thất                  Dẫn động Số chỗ ngồi   \n",
       "0             Đỏ          Đen  FWD - Dẫn động cầu trước       5 chỗ  \\\n",
       "1          Trắng          Đen    RFD - Dẫn động cầu sau       5 chỗ   \n",
       "2            Đen          Nâu    RFD - Dẫn động cầu sau       5 chỗ   \n",
       "3           Xanh          Nâu    RFD - Dẫn động cầu sau       5 chỗ   \n",
       "4          Trắng          Nâu    RFD - Dẫn động cầu sau       5 chỗ   \n",
       "\n",
       "           Giá xe  \n",
       "0       679 Triệu  \n",
       "1       499 Triệu  \n",
       "2  2 Tỷ 229 Triệu  \n",
       "3  1 Tỷ 399 Triệu  \n",
       "4  1 Tỷ 788 Triệu  "
      ]
     },
     "execution_count": 152,
     "metadata": {},
     "output_type": "execute_result"
    }
   ],
   "source": [
    "bonbanh = pd.read_csv('Data/BonBanh.csv')\n",
    "bonbanh.head()"
   ]
  },
  {
   "cell_type": "code",
   "execution_count": 153,
   "metadata": {},
   "outputs": [
    {
     "data": {
      "text/html": [
       "<div>\n",
       "<style scoped>\n",
       "    .dataframe tbody tr th:only-of-type {\n",
       "        vertical-align: middle;\n",
       "    }\n",
       "\n",
       "    .dataframe tbody tr th {\n",
       "        vertical-align: top;\n",
       "    }\n",
       "\n",
       "    .dataframe thead th {\n",
       "        text-align: right;\n",
       "    }\n",
       "</style>\n",
       "<table border=\"1\" class=\"dataframe\">\n",
       "  <thead>\n",
       "    <tr style=\"text-align: right;\">\n",
       "      <th></th>\n",
       "      <th>Tiêu đề</th>\n",
       "      <th>Hãng</th>\n",
       "      <th>Dòng xe</th>\n",
       "      <th>Năm sản xuất</th>\n",
       "      <th>Số km đã đi</th>\n",
       "      <th>Tình trạng</th>\n",
       "      <th>Hộp số</th>\n",
       "      <th>Nhiên liệu</th>\n",
       "      <th>Xuất xứ</th>\n",
       "      <th>Kiểu dáng</th>\n",
       "      <th>Số chỗ</th>\n",
       "      <th>Giá</th>\n",
       "    </tr>\n",
       "  </thead>\n",
       "  <tbody>\n",
       "    <tr>\n",
       "      <th>0</th>\n",
       "      <td>bán xe Xpander chính chủ</td>\n",
       "      <td>Mitsubishi</td>\n",
       "      <td>Xpander</td>\n",
       "      <td>2019</td>\n",
       "      <td>50000.0</td>\n",
       "      <td>Đã sử dụng</td>\n",
       "      <td>Tự động</td>\n",
       "      <td>Xăng</td>\n",
       "      <td>Nước khác</td>\n",
       "      <td>NaN</td>\n",
       "      <td>NaN</td>\n",
       "      <td>460.000.000 đ</td>\n",
       "    </tr>\n",
       "    <tr>\n",
       "      <th>1</th>\n",
       "      <td>Lên đời bán xe Pajero Sport mua hãng còn mới</td>\n",
       "      <td>Mitsubishi</td>\n",
       "      <td>Pajero Sport</td>\n",
       "      <td>2021</td>\n",
       "      <td>60000.0</td>\n",
       "      <td>Đã sử dụng</td>\n",
       "      <td>Tự động</td>\n",
       "      <td>Dầu</td>\n",
       "      <td>Thái Lan</td>\n",
       "      <td>NaN</td>\n",
       "      <td>NaN</td>\n",
       "      <td>830.000.000 đ</td>\n",
       "    </tr>\n",
       "    <tr>\n",
       "      <th>2</th>\n",
       "      <td>Ford Everest Wildtrak, Đủ màu giao ngay</td>\n",
       "      <td>Ford</td>\n",
       "      <td>Everest</td>\n",
       "      <td>2023</td>\n",
       "      <td>NaN</td>\n",
       "      <td>Mới</td>\n",
       "      <td>Bán tự động</td>\n",
       "      <td>Dầu</td>\n",
       "      <td>Thái Lan</td>\n",
       "      <td>SUV / Cross over</td>\n",
       "      <td>NaN</td>\n",
       "      <td>1.409.000.000 đ</td>\n",
       "    </tr>\n",
       "    <tr>\n",
       "      <th>3</th>\n",
       "      <td>Everest 4x4 2023 giảm giá tới 120tr góp từ 250tr</td>\n",
       "      <td>Ford</td>\n",
       "      <td>Everest</td>\n",
       "      <td>2023</td>\n",
       "      <td>NaN</td>\n",
       "      <td>Mới</td>\n",
       "      <td>Tự động</td>\n",
       "      <td>Dầu</td>\n",
       "      <td>Thái Lan</td>\n",
       "      <td>SUV / Cross over</td>\n",
       "      <td>NaN</td>\n",
       "      <td>1.352.000.000 đ</td>\n",
       "    </tr>\n",
       "    <tr>\n",
       "      <th>4</th>\n",
       "      <td>cần bán xe lux A 2.0 đời 2019 Bản prelium mới đét</td>\n",
       "      <td>Vinfast</td>\n",
       "      <td>Lux A2.0</td>\n",
       "      <td>2019</td>\n",
       "      <td>26000.0</td>\n",
       "      <td>Đã sử dụng</td>\n",
       "      <td>Tự động</td>\n",
       "      <td>Xăng</td>\n",
       "      <td>Việt Nam</td>\n",
       "      <td>NaN</td>\n",
       "      <td>NaN</td>\n",
       "      <td>605.000.000 đ</td>\n",
       "    </tr>\n",
       "  </tbody>\n",
       "</table>\n",
       "</div>"
      ],
      "text/plain": [
       "                                             Tiêu đề        Hãng   \n",
       "0                           bán xe Xpander chính chủ  Mitsubishi  \\\n",
       "1       Lên đời bán xe Pajero Sport mua hãng còn mới  Mitsubishi   \n",
       "2            Ford Everest Wildtrak, Đủ màu giao ngay        Ford   \n",
       "3   Everest 4x4 2023 giảm giá tới 120tr góp từ 250tr        Ford   \n",
       "4  cần bán xe lux A 2.0 đời 2019 Bản prelium mới đét     Vinfast   \n",
       "\n",
       "        Dòng xe Năm sản xuất  Số km đã đi  Tình trạng       Hộp số Nhiên liệu   \n",
       "0       Xpander         2019      50000.0  Đã sử dụng      Tự động       Xăng  \\\n",
       "1  Pajero Sport         2021      60000.0  Đã sử dụng      Tự động        Dầu   \n",
       "2       Everest         2023          NaN         Mới  Bán tự động        Dầu   \n",
       "3       Everest         2023          NaN         Mới      Tự động        Dầu   \n",
       "4      Lux A2.0         2019      26000.0  Đã sử dụng      Tự động       Xăng   \n",
       "\n",
       "     Xuất xứ         Kiểu dáng Số chỗ              Giá  \n",
       "0  Nước khác               NaN    NaN    460.000.000 đ  \n",
       "1   Thái Lan               NaN    NaN    830.000.000 đ  \n",
       "2   Thái Lan  SUV / Cross over    NaN  1.409.000.000 đ  \n",
       "3   Thái Lan  SUV / Cross over    NaN  1.352.000.000 đ  \n",
       "4   Việt Nam               NaN    NaN    605.000.000 đ  "
      ]
     },
     "execution_count": 153,
     "metadata": {},
     "output_type": "execute_result"
    }
   ],
   "source": [
    "chotot = pd.read_csv('Data/Chotot.csv')\n",
    "chotot.head()"
   ]
  },
  {
   "cell_type": "markdown",
   "metadata": {},
   "source": [
    "#### Change value '-' into null"
   ]
  },
  {
   "cell_type": "code",
   "execution_count": 154,
   "metadata": {},
   "outputs": [],
   "source": [
    "for col in bonbanh:\n",
    "    bonbanh[col] = bonbanh[col].replace('-', np.nan)"
   ]
  },
  {
   "cell_type": "markdown",
   "metadata": {},
   "source": [
    "#### Remove all price-missing car"
   ]
  },
  {
   "cell_type": "code",
   "execution_count": 155,
   "metadata": {},
   "outputs": [],
   "source": [
    "chotot = chotot.dropna(subset=['Giá'])"
   ]
  },
  {
   "cell_type": "markdown",
   "metadata": {},
   "source": [
    "#### Convert **Number of km traveled** to int and change it to *0* for all new cars"
   ]
  },
  {
   "cell_type": "code",
   "execution_count": 156,
   "metadata": {},
   "outputs": [],
   "source": [
    "bonbanh['Số km đã đi'] = bonbanh['Số km đã đi'].replace('Xe mới', '0 Km')\n",
    "bonbanh['Số km đã đi'] = bonbanh['Số km đã đi'].str.replace('Km', '')\n",
    "def change_to_int(so_km):\n",
    "    km = 0\n",
    "    so_km = [int(x) for x in so_km.split(',')]\n",
    "    n = len(so_km)\n",
    "    for i in range(n):\n",
    "        km += 1000**(n-i-1)*so_km[i] \n",
    "    return km\n",
    "bonbanh['Số km đã đi'] = bonbanh['Số km đã đi'].apply(change_to_int)"
   ]
  },
  {
   "cell_type": "code",
   "execution_count": 157,
   "metadata": {},
   "outputs": [],
   "source": [
    "chotot.loc[chotot['Tình trạng'] == 'Mới', 'Số km đã đi'] = 0"
   ]
  },
  {
   "cell_type": "markdown",
   "metadata": {},
   "source": [
    "#### Convert **Price** into *Million* unit"
   ]
  },
  {
   "cell_type": "code",
   "execution_count": 158,
   "metadata": {},
   "outputs": [],
   "source": [
    "def convert_price(price):\n",
    "    price = price.split(\" \")\n",
    "    if len(price) == 4:\n",
    "        return int(price[0])*1000 + int(price[2])\n",
    "    else:\n",
    "        if price[-1] == 'Tỷ':\n",
    "            return int(price[0]) * 1000\n",
    "        else:\n",
    "            return int(price[0])\n",
    "bonbanh['Giá xe'] = bonbanh['Giá xe'].apply(convert_price)\n",
    "bonbanh = bonbanh.rename(columns = {'Giá xe': 'Giá (triệu)'})\n",
    "bonbanh['Giá (triệu)'] = bonbanh['Giá (triệu)'].astype('int64')"
   ]
  },
  {
   "cell_type": "code",
   "execution_count": 159,
   "metadata": {},
   "outputs": [],
   "source": [
    "chotot['Giá'] = chotot['Giá'].astype(str).str.rstrip('đ')\n",
    "def price_convert(x):\n",
    "    l = x.split('.')\n",
    "    return ''.join(l[0:len(l)-2:1])\n",
    "chotot['Giá'] = chotot['Giá'].apply(price_convert)\n",
    "chotot = chotot.rename(columns = {'Giá': 'Giá (triệu)'})\n",
    "chotot['Giá (triệu)'] = chotot['Giá (triệu)'].astype('int64')"
   ]
  },
  {
   "cell_type": "markdown",
   "metadata": {},
   "source": [
    "#### Change **State**"
   ]
  },
  {
   "cell_type": "code",
   "execution_count": 160,
   "metadata": {},
   "outputs": [],
   "source": [
    "chotot['Tình trạng'] = chotot['Tình trạng'].replace('Đã sử dụng', 'Xe đã dùng')\n",
    "chotot['Tình trạng'] = chotot['Tình trạng'].replace('Mới', 'Xe mới')"
   ]
  },
  {
   "cell_type": "markdown",
   "metadata": {},
   "source": [
    "#### Change **Gearbox**"
   ]
  },
  {
   "cell_type": "code",
   "execution_count": 161,
   "metadata": {},
   "outputs": [],
   "source": [
    "def change_gearbox(x):   \n",
    "    if x == 'Tự động' or x == '4':\n",
    "        return 'Số tự động'\n",
    "    elif x == 'Bán tự động':\n",
    "        return 'Số hỗn hợp'\n",
    "    elif x == 'Số sàn' or x == '5':\n",
    "        return 'Số tay'\n",
    "    else:\n",
    "        return x\n",
    "chotot['Hộp số'] = chotot['Hộp số'].apply(change_gearbox)"
   ]
  },
  {
   "cell_type": "markdown",
   "metadata": {},
   "source": [
    "#### Change **Design** "
   ]
  },
  {
   "cell_type": "code",
   "execution_count": 162,
   "metadata": {},
   "outputs": [],
   "source": [
    "def change_design(x):\n",
    "    if x == 'Bán tải / Pickup' or x == 'Pick-up (bán tải)':\n",
    "        return 'Pickup'\n",
    "    elif x == 'SUV' or x == 'Crossover':\n",
    "        return 'SUV /Crossover'\n",
    "    elif x == 'Van' or x == 'Minivan (MPV)':\n",
    "        return 'Van/Minivan'\n",
    "    elif x == 'Coupe (2 cửa)':\n",
    "        return 'Coupe'\n",
    "    elif x == 'Convertible/Cabriolet' or x == 'Mui trần':\n",
    "        return 'Convertible'\n",
    "    elif x == 'Truck' or x == 'Wagon':\n",
    "        return 'Kiểu dáng khác'\n",
    "    else:\n",
    "        return x\n",
    "bonbanh['Kiểu dáng'] = bonbanh['Kiểu dáng'].apply(change_design)\n",
    "chotot['Kiểu dáng'] = chotot['Kiểu dáng'].apply(change_design)"
   ]
  },
  {
   "cell_type": "markdown",
   "metadata": {},
   "source": [
    "#### Change **Origin** into *Domestical* or *Imported* "
   ]
  },
  {
   "cell_type": "code",
   "execution_count": 163,
   "metadata": {},
   "outputs": [],
   "source": [
    "def change_origin(x):\n",
    "    if x == 'Việt Nam' or x == 'Lắp ráp trong nước':\n",
    "        return 'Trong nước'\n",
    "    elif x in ['Nước khác', 'Thái Lan', 'Hàn Quốc', 'Đang cập nhật', 'Mỹ', 'Nhật Bản', 'Đức', 'Đài Loan', 'Ấn Độ', 'Trung Quốc']:\n",
    "        return 'Nhập khẩu'\n",
    "    else:\n",
    "        return x\n",
    "bonbanh['Xuất xứ'] = bonbanh['Xuất xứ'].apply(change_origin)\n",
    "chotot['Xuất xứ'] = chotot['Xuất xứ'].apply(change_origin)"
   ]
  },
  {
   "cell_type": "markdown",
   "metadata": {},
   "source": [
    "#### Take **Capacity** and **Engine** from **Fuel type**"
   ]
  },
  {
   "cell_type": "code",
   "execution_count": 164,
   "metadata": {},
   "outputs": [],
   "source": [
    "bonbanh['Dung tích'] = bonbanh['Động cơ'].str.extract(r'(\\d\\.\\d)')\n",
    "bonbanh = bonbanh.rename(columns = {'Động cơ': 'Nhiên liệu'})\n",
    "bonbanh['Nhiên liệu'] = bonbanh['Nhiên liệu'].str.extract(r'(Xăng|Dầu|Hybrid|Điện)')\n",
    "bonbanh.loc[bonbanh['Nhiên liệu'] == 'Điện', 'Dung tích'] = 0.0\n",
    "bonbanh['Dung tích'] = bonbanh['Dung tích'].astype('float64')"
   ]
  },
  {
   "cell_type": "markdown",
   "metadata": {},
   "source": [
    "#### Take **brand** from **name**"
   ]
  },
  {
   "cell_type": "code",
   "execution_count": 165,
   "metadata": {},
   "outputs": [],
   "source": [
    "bonbanh = bonbanh.rename(columns = {'Tên xe': 'Hãng'})\n",
    "bonbanh['Hãng'] = bonbanh['Hãng'].str.replace('Xe ', '')\n",
    "check =  lambda x : ' '.join(x.split()[:1]) if x.split()[0] != \"Mercedes\" else ' '.join(x.split()[:2])\n",
    "bonbanh['Hãng'] = bonbanh['Hãng'].apply(check)"
   ]
  },
  {
   "cell_type": "markdown",
   "metadata": {},
   "source": [
    "#### Convert **Number of car seat** to int"
   ]
  },
  {
   "cell_type": "code",
   "execution_count": 166,
   "metadata": {},
   "outputs": [],
   "source": [
    "bonbanh['Số chỗ ngồi'] = bonbanh['Số chỗ ngồi'].str.replace('chỗ', '')\n",
    "bonbanh = bonbanh.rename(columns = {'Số chỗ ngồi': 'Số chỗ'})"
   ]
  },
  {
   "cell_type": "markdown",
   "metadata": {},
   "source": [
    "#### Drop unnecessary column"
   ]
  },
  {
   "cell_type": "code",
   "execution_count": 167,
   "metadata": {},
   "outputs": [],
   "source": [
    "bonbanh.drop(['Màu nội thất', 'Màu ngoại thất', 'Dẫn động', 'Dung tích'], axis=1,inplace=True)\n",
    "chotot.drop(['Tiêu đề', 'Dòng xe'],axis=1,inplace=True)"
   ]
  },
  {
   "cell_type": "markdown",
   "metadata": {},
   "source": [
    "#### Change position of columns"
   ]
  },
  {
   "cell_type": "code",
   "execution_count": 168,
   "metadata": {},
   "outputs": [],
   "source": [
    "bonbanh = bonbanh[['Hãng', 'Năm sản xuất','Tình trạng', 'Số km đã đi', 'Xuất xứ', 'Kiểu dáng', 'Hộp số', 'Nhiên liệu', 'Số chỗ', 'Giá (triệu)']]\n",
    "chotot  = chotot[['Hãng', 'Năm sản xuất','Tình trạng', 'Số km đã đi', 'Xuất xứ', 'Kiểu dáng', 'Hộp số', 'Nhiên liệu', 'Số chỗ', 'Giá (triệu)']]"
   ]
  },
  {
   "cell_type": "code",
   "execution_count": 169,
   "metadata": {},
   "outputs": [
    {
     "data": {
      "text/html": [
       "<div>\n",
       "<style scoped>\n",
       "    .dataframe tbody tr th:only-of-type {\n",
       "        vertical-align: middle;\n",
       "    }\n",
       "\n",
       "    .dataframe tbody tr th {\n",
       "        vertical-align: top;\n",
       "    }\n",
       "\n",
       "    .dataframe thead th {\n",
       "        text-align: right;\n",
       "    }\n",
       "</style>\n",
       "<table border=\"1\" class=\"dataframe\">\n",
       "  <thead>\n",
       "    <tr style=\"text-align: right;\">\n",
       "      <th></th>\n",
       "      <th>Hãng</th>\n",
       "      <th>Năm sản xuất</th>\n",
       "      <th>Tình trạng</th>\n",
       "      <th>Số km đã đi</th>\n",
       "      <th>Xuất xứ</th>\n",
       "      <th>Kiểu dáng</th>\n",
       "      <th>Hộp số</th>\n",
       "      <th>Nhiên liệu</th>\n",
       "      <th>Số chỗ</th>\n",
       "      <th>Giá (triệu)</th>\n",
       "    </tr>\n",
       "  </thead>\n",
       "  <tbody>\n",
       "    <tr>\n",
       "      <th>0</th>\n",
       "      <td>Peugeot</td>\n",
       "      <td>2022</td>\n",
       "      <td>Xe đã dùng</td>\n",
       "      <td>30000</td>\n",
       "      <td>Trong nước</td>\n",
       "      <td>SUV /Crossover</td>\n",
       "      <td>Số tự động</td>\n",
       "      <td>Xăng</td>\n",
       "      <td>5</td>\n",
       "      <td>679</td>\n",
       "    </tr>\n",
       "    <tr>\n",
       "      <th>1</th>\n",
       "      <td>Mercedes Benz</td>\n",
       "      <td>2014</td>\n",
       "      <td>Xe đã dùng</td>\n",
       "      <td>90000</td>\n",
       "      <td>Trong nước</td>\n",
       "      <td>Sedan</td>\n",
       "      <td>Số tự động</td>\n",
       "      <td>Xăng</td>\n",
       "      <td>5</td>\n",
       "      <td>499</td>\n",
       "    </tr>\n",
       "    <tr>\n",
       "      <th>2</th>\n",
       "      <td>Mercedes Benz</td>\n",
       "      <td>2022</td>\n",
       "      <td>Xe đã dùng</td>\n",
       "      <td>500</td>\n",
       "      <td>Trong nước</td>\n",
       "      <td>Sedan</td>\n",
       "      <td>Số tự động</td>\n",
       "      <td>Xăng</td>\n",
       "      <td>5</td>\n",
       "      <td>2229</td>\n",
       "    </tr>\n",
       "    <tr>\n",
       "      <th>3</th>\n",
       "      <td>Mercedes Benz</td>\n",
       "      <td>2021</td>\n",
       "      <td>Xe đã dùng</td>\n",
       "      <td>80</td>\n",
       "      <td>Trong nước</td>\n",
       "      <td>Sedan</td>\n",
       "      <td>Số tự động</td>\n",
       "      <td>Xăng</td>\n",
       "      <td>5</td>\n",
       "      <td>1399</td>\n",
       "    </tr>\n",
       "    <tr>\n",
       "      <th>4</th>\n",
       "      <td>Mercedes Benz</td>\n",
       "      <td>2022</td>\n",
       "      <td>Xe đã dùng</td>\n",
       "      <td>8888</td>\n",
       "      <td>Trong nước</td>\n",
       "      <td>Sedan</td>\n",
       "      <td>Số tự động</td>\n",
       "      <td>Xăng</td>\n",
       "      <td>5</td>\n",
       "      <td>1788</td>\n",
       "    </tr>\n",
       "  </tbody>\n",
       "</table>\n",
       "</div>"
      ],
      "text/plain": [
       "            Hãng  Năm sản xuất  Tình trạng  Số km đã đi     Xuất xứ   \n",
       "0        Peugeot          2022  Xe đã dùng        30000  Trong nước  \\\n",
       "1  Mercedes Benz          2014  Xe đã dùng        90000  Trong nước   \n",
       "2  Mercedes Benz          2022  Xe đã dùng          500  Trong nước   \n",
       "3  Mercedes Benz          2021  Xe đã dùng           80  Trong nước   \n",
       "4  Mercedes Benz          2022  Xe đã dùng         8888  Trong nước   \n",
       "\n",
       "        Kiểu dáng      Hộp số Nhiên liệu Số chỗ  Giá (triệu)  \n",
       "0  SUV /Crossover  Số tự động       Xăng     5           679  \n",
       "1           Sedan  Số tự động       Xăng     5           499  \n",
       "2           Sedan  Số tự động       Xăng     5          2229  \n",
       "3           Sedan  Số tự động       Xăng     5          1399  \n",
       "4           Sedan  Số tự động       Xăng     5          1788  "
      ]
     },
     "execution_count": 169,
     "metadata": {},
     "output_type": "execute_result"
    }
   ],
   "source": [
    "bonbanh.head()"
   ]
  },
  {
   "cell_type": "code",
   "execution_count": 170,
   "metadata": {},
   "outputs": [
    {
     "data": {
      "text/html": [
       "<div>\n",
       "<style scoped>\n",
       "    .dataframe tbody tr th:only-of-type {\n",
       "        vertical-align: middle;\n",
       "    }\n",
       "\n",
       "    .dataframe tbody tr th {\n",
       "        vertical-align: top;\n",
       "    }\n",
       "\n",
       "    .dataframe thead th {\n",
       "        text-align: right;\n",
       "    }\n",
       "</style>\n",
       "<table border=\"1\" class=\"dataframe\">\n",
       "  <thead>\n",
       "    <tr style=\"text-align: right;\">\n",
       "      <th></th>\n",
       "      <th>Hãng</th>\n",
       "      <th>Năm sản xuất</th>\n",
       "      <th>Tình trạng</th>\n",
       "      <th>Số km đã đi</th>\n",
       "      <th>Xuất xứ</th>\n",
       "      <th>Kiểu dáng</th>\n",
       "      <th>Hộp số</th>\n",
       "      <th>Nhiên liệu</th>\n",
       "      <th>Số chỗ</th>\n",
       "      <th>Giá (triệu)</th>\n",
       "    </tr>\n",
       "  </thead>\n",
       "  <tbody>\n",
       "    <tr>\n",
       "      <th>0</th>\n",
       "      <td>Mitsubishi</td>\n",
       "      <td>2019</td>\n",
       "      <td>Xe đã dùng</td>\n",
       "      <td>50000.0</td>\n",
       "      <td>Nhập khẩu</td>\n",
       "      <td>NaN</td>\n",
       "      <td>Số tự động</td>\n",
       "      <td>Xăng</td>\n",
       "      <td>NaN</td>\n",
       "      <td>460</td>\n",
       "    </tr>\n",
       "    <tr>\n",
       "      <th>1</th>\n",
       "      <td>Mitsubishi</td>\n",
       "      <td>2021</td>\n",
       "      <td>Xe đã dùng</td>\n",
       "      <td>60000.0</td>\n",
       "      <td>Nhập khẩu</td>\n",
       "      <td>NaN</td>\n",
       "      <td>Số tự động</td>\n",
       "      <td>Dầu</td>\n",
       "      <td>NaN</td>\n",
       "      <td>830</td>\n",
       "    </tr>\n",
       "    <tr>\n",
       "      <th>2</th>\n",
       "      <td>Ford</td>\n",
       "      <td>2023</td>\n",
       "      <td>Xe mới</td>\n",
       "      <td>0.0</td>\n",
       "      <td>Nhập khẩu</td>\n",
       "      <td>SUV / Cross over</td>\n",
       "      <td>Số hỗn hợp</td>\n",
       "      <td>Dầu</td>\n",
       "      <td>NaN</td>\n",
       "      <td>1409</td>\n",
       "    </tr>\n",
       "    <tr>\n",
       "      <th>3</th>\n",
       "      <td>Ford</td>\n",
       "      <td>2023</td>\n",
       "      <td>Xe mới</td>\n",
       "      <td>0.0</td>\n",
       "      <td>Nhập khẩu</td>\n",
       "      <td>SUV / Cross over</td>\n",
       "      <td>Số tự động</td>\n",
       "      <td>Dầu</td>\n",
       "      <td>NaN</td>\n",
       "      <td>1352</td>\n",
       "    </tr>\n",
       "    <tr>\n",
       "      <th>4</th>\n",
       "      <td>Vinfast</td>\n",
       "      <td>2019</td>\n",
       "      <td>Xe đã dùng</td>\n",
       "      <td>26000.0</td>\n",
       "      <td>Trong nước</td>\n",
       "      <td>NaN</td>\n",
       "      <td>Số tự động</td>\n",
       "      <td>Xăng</td>\n",
       "      <td>NaN</td>\n",
       "      <td>605</td>\n",
       "    </tr>\n",
       "  </tbody>\n",
       "</table>\n",
       "</div>"
      ],
      "text/plain": [
       "         Hãng Năm sản xuất  Tình trạng  Số km đã đi     Xuất xứ   \n",
       "0  Mitsubishi         2019  Xe đã dùng      50000.0   Nhập khẩu  \\\n",
       "1  Mitsubishi         2021  Xe đã dùng      60000.0   Nhập khẩu   \n",
       "2        Ford         2023      Xe mới          0.0   Nhập khẩu   \n",
       "3        Ford         2023      Xe mới          0.0   Nhập khẩu   \n",
       "4     Vinfast         2019  Xe đã dùng      26000.0  Trong nước   \n",
       "\n",
       "          Kiểu dáng      Hộp số Nhiên liệu Số chỗ  Giá (triệu)  \n",
       "0               NaN  Số tự động       Xăng    NaN          460  \n",
       "1               NaN  Số tự động        Dầu    NaN          830  \n",
       "2  SUV / Cross over  Số hỗn hợp        Dầu    NaN         1409  \n",
       "3  SUV / Cross over  Số tự động        Dầu    NaN         1352  \n",
       "4               NaN  Số tự động       Xăng    NaN          605  "
      ]
     },
     "execution_count": 170,
     "metadata": {},
     "output_type": "execute_result"
    }
   ],
   "source": [
    "chotot.head()"
   ]
  },
  {
   "cell_type": "markdown",
   "metadata": {},
   "source": [
    "## Combine **bonbanh** and **chotot**"
   ]
  },
  {
   "cell_type": "code",
   "execution_count": 171,
   "metadata": {},
   "outputs": [],
   "source": [
    "data = pd.concat([bonbanh, chotot], ignore_index=True)"
   ]
  },
  {
   "cell_type": "code",
   "execution_count": 172,
   "metadata": {},
   "outputs": [
    {
     "name": "stdout",
     "output_type": "stream",
     "text": [
      "<class 'pandas.core.frame.DataFrame'>\n",
      "RangeIndex: 38357 entries, 0 to 38356\n",
      "Data columns (total 10 columns):\n",
      " #   Column        Non-Null Count  Dtype  \n",
      "---  ------        --------------  -----  \n",
      " 0   Hãng          38356 non-null  object \n",
      " 1   Năm sản xuất  38356 non-null  object \n",
      " 2   Tình trạng    38357 non-null  object \n",
      " 3   Số km đã đi   38094 non-null  float64\n",
      " 4   Xuất xứ       34492 non-null  object \n",
      " 5   Kiểu dáng     24503 non-null  object \n",
      " 6   Hộp số        38348 non-null  object \n",
      " 7   Nhiên liệu    38349 non-null  object \n",
      " 8   Số chỗ        18889 non-null  object \n",
      " 9   Giá (triệu)   38357 non-null  int64  \n",
      "dtypes: float64(1), int64(1), object(8)\n",
      "memory usage: 2.9+ MB\n"
     ]
    }
   ],
   "source": [
    "data.info()"
   ]
  },
  {
   "cell_type": "markdown",
   "metadata": {},
   "source": [
    "## Convert to csv file"
   ]
  },
  {
   "cell_type": "code",
   "execution_count": 173,
   "metadata": {},
   "outputs": [],
   "source": [
    "data.to_csv('Data/data.csv', index=False)"
   ]
  }
 ],
 "metadata": {
  "kernelspec": {
   "display_name": "Python 3",
   "language": "python",
   "name": "python3"
  },
  "language_info": {
   "codemirror_mode": {
    "name": "ipython",
    "version": 3
   },
   "file_extension": ".py",
   "mimetype": "text/x-python",
   "name": "python",
   "nbconvert_exporter": "python",
   "pygments_lexer": "ipython3",
   "version": "3.10.4"
  }
 },
 "nbformat": 4,
 "nbformat_minor": 2
}
