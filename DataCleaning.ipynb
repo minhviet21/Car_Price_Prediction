{
 "cells": [
  {
   "cell_type": "markdown",
   "metadata": {},
   "source": [
    "## Import libraries "
   ]
  },
  {
   "cell_type": "code",
   "execution_count": 147,
   "metadata": {},
   "outputs": [],
   "source": [
    "import pandas as pd\n",
    "import numpy as np"
   ]
  },
  {
   "cell_type": "markdown",
   "metadata": {},
   "source": [
    "## Convert BonBanh data and Chotot data to same format"
   ]
  },
  {
   "cell_type": "markdown",
   "metadata": {},
   "source": [
    "#### Read data from file csv"
   ]
  },
  {
   "cell_type": "code",
   "execution_count": 148,
   "metadata": {},
   "outputs": [
    {
     "data": {
      "text/html": [
       "<div>\n",
       "<style scoped>\n",
       "    .dataframe tbody tr th:only-of-type {\n",
       "        vertical-align: middle;\n",
       "    }\n",
       "\n",
       "    .dataframe tbody tr th {\n",
       "        vertical-align: top;\n",
       "    }\n",
       "\n",
       "    .dataframe thead th {\n",
       "        text-align: right;\n",
       "    }\n",
       "</style>\n",
       "<table border=\"1\" class=\"dataframe\">\n",
       "  <thead>\n",
       "    <tr style=\"text-align: right;\">\n",
       "      <th></th>\n",
       "      <th>Tên xe</th>\n",
       "      <th>Năm sản xuất</th>\n",
       "      <th>Tình trạng</th>\n",
       "      <th>Số km đã đi</th>\n",
       "      <th>Xuất xứ</th>\n",
       "      <th>Kiểu dáng</th>\n",
       "      <th>Hộp số</th>\n",
       "      <th>Động cơ</th>\n",
       "      <th>Màu ngoại thất</th>\n",
       "      <th>Màu nội thất</th>\n",
       "      <th>Dẫn động</th>\n",
       "      <th>Số chỗ ngồi</th>\n",
       "      <th>Giá xe</th>\n",
       "    </tr>\n",
       "  </thead>\n",
       "  <tbody>\n",
       "    <tr>\n",
       "      <th>0</th>\n",
       "      <td>Xe Peugeot 2008 Active 1.2 AT</td>\n",
       "      <td>2022</td>\n",
       "      <td>Xe đã dùng</td>\n",
       "      <td>30,000 Km</td>\n",
       "      <td>Lắp ráp trong nước</td>\n",
       "      <td>Crossover</td>\n",
       "      <td>Số tự động</td>\n",
       "      <td>Xăng  1.2 L</td>\n",
       "      <td>Đỏ</td>\n",
       "      <td>Đen</td>\n",
       "      <td>FWD - Dẫn động cầu trước</td>\n",
       "      <td>5 chỗ</td>\n",
       "      <td>679 Triệu</td>\n",
       "    </tr>\n",
       "    <tr>\n",
       "      <th>1</th>\n",
       "      <td>Xe Mercedes Benz C class C300 AMG</td>\n",
       "      <td>2014</td>\n",
       "      <td>Xe đã dùng</td>\n",
       "      <td>90,000 Km</td>\n",
       "      <td>Lắp ráp trong nước</td>\n",
       "      <td>Sedan</td>\n",
       "      <td>Số tự động</td>\n",
       "      <td>Xăng  3.0 L</td>\n",
       "      <td>Trắng</td>\n",
       "      <td>Đen</td>\n",
       "      <td>RFD - Dẫn động cầu sau</td>\n",
       "      <td>5 chỗ</td>\n",
       "      <td>499 Triệu</td>\n",
       "    </tr>\n",
       "    <tr>\n",
       "      <th>2</th>\n",
       "      <td>Xe Mercedes Benz E class E200 Exclusive</td>\n",
       "      <td>2022</td>\n",
       "      <td>Xe đã dùng</td>\n",
       "      <td>500 Km</td>\n",
       "      <td>Lắp ráp trong nước</td>\n",
       "      <td>Sedan</td>\n",
       "      <td>Số tự động</td>\n",
       "      <td>Xăng  2.0 L</td>\n",
       "      <td>Đen</td>\n",
       "      <td>Nâu</td>\n",
       "      <td>RFD - Dẫn động cầu sau</td>\n",
       "      <td>5 chỗ</td>\n",
       "      <td>2 Tỷ 229 Triệu</td>\n",
       "    </tr>\n",
       "    <tr>\n",
       "      <th>3</th>\n",
       "      <td>Xe Mercedes Benz C class C200 Avantgarde</td>\n",
       "      <td>2021</td>\n",
       "      <td>Xe đã dùng</td>\n",
       "      <td>80 Km</td>\n",
       "      <td>Lắp ráp trong nước</td>\n",
       "      <td>Sedan</td>\n",
       "      <td>Số tự động</td>\n",
       "      <td>Xăng  1.5 L</td>\n",
       "      <td>Xanh</td>\n",
       "      <td>Nâu</td>\n",
       "      <td>RFD - Dẫn động cầu sau</td>\n",
       "      <td>5 chỗ</td>\n",
       "      <td>1 Tỷ 399 Triệu</td>\n",
       "    </tr>\n",
       "    <tr>\n",
       "      <th>4</th>\n",
       "      <td>Xe Mercedes Benz E class E200 Exclusive</td>\n",
       "      <td>2022</td>\n",
       "      <td>Xe đã dùng</td>\n",
       "      <td>8,888 Km</td>\n",
       "      <td>Lắp ráp trong nước</td>\n",
       "      <td>Sedan</td>\n",
       "      <td>Số tự động</td>\n",
       "      <td>Xăng  2.0 L</td>\n",
       "      <td>Trắng</td>\n",
       "      <td>Nâu</td>\n",
       "      <td>RFD - Dẫn động cầu sau</td>\n",
       "      <td>5 chỗ</td>\n",
       "      <td>1 Tỷ 788 Triệu</td>\n",
       "    </tr>\n",
       "  </tbody>\n",
       "</table>\n",
       "</div>"
      ],
      "text/plain": [
       "                                     Tên xe  Năm sản xuất  Tình trạng   \n",
       "0             Xe Peugeot 2008 Active 1.2 AT          2022  Xe đã dùng  \\\n",
       "1         Xe Mercedes Benz C class C300 AMG          2014  Xe đã dùng   \n",
       "2   Xe Mercedes Benz E class E200 Exclusive          2022  Xe đã dùng   \n",
       "3  Xe Mercedes Benz C class C200 Avantgarde          2021  Xe đã dùng   \n",
       "4   Xe Mercedes Benz E class E200 Exclusive          2022  Xe đã dùng   \n",
       "\n",
       "  Số km đã đi             Xuất xứ  Kiểu dáng      Hộp số      Động cơ   \n",
       "0   30,000 Km  Lắp ráp trong nước  Crossover  Số tự động  Xăng  1.2 L  \\\n",
       "1   90,000 Km  Lắp ráp trong nước      Sedan  Số tự động  Xăng  3.0 L   \n",
       "2      500 Km  Lắp ráp trong nước      Sedan  Số tự động  Xăng  2.0 L   \n",
       "3       80 Km  Lắp ráp trong nước      Sedan  Số tự động  Xăng  1.5 L   \n",
       "4    8,888 Km  Lắp ráp trong nước      Sedan  Số tự động  Xăng  2.0 L   \n",
       "\n",
       "  Màu ngoại thất Màu nội thất                  Dẫn động Số chỗ ngồi   \n",
       "0             Đỏ          Đen  FWD - Dẫn động cầu trước       5 chỗ  \\\n",
       "1          Trắng          Đen    RFD - Dẫn động cầu sau       5 chỗ   \n",
       "2            Đen          Nâu    RFD - Dẫn động cầu sau       5 chỗ   \n",
       "3           Xanh          Nâu    RFD - Dẫn động cầu sau       5 chỗ   \n",
       "4          Trắng          Nâu    RFD - Dẫn động cầu sau       5 chỗ   \n",
       "\n",
       "           Giá xe  \n",
       "0       679 Triệu  \n",
       "1       499 Triệu  \n",
       "2  2 Tỷ 229 Triệu  \n",
       "3  1 Tỷ 399 Triệu  \n",
       "4  1 Tỷ 788 Triệu  "
      ]
     },
     "execution_count": 148,
     "metadata": {},
     "output_type": "execute_result"
    }
   ],
   "source": [
    "bonbanh = pd.read_csv('Data/BonBanh.csv')\n",
    "bonbanh.head()"
   ]
  },
  {
   "cell_type": "code",
   "execution_count": 149,
   "metadata": {},
   "outputs": [
    {
     "data": {
      "text/html": [
       "<div>\n",
       "<style scoped>\n",
       "    .dataframe tbody tr th:only-of-type {\n",
       "        vertical-align: middle;\n",
       "    }\n",
       "\n",
       "    .dataframe tbody tr th {\n",
       "        vertical-align: top;\n",
       "    }\n",
       "\n",
       "    .dataframe thead th {\n",
       "        text-align: right;\n",
       "    }\n",
       "</style>\n",
       "<table border=\"1\" class=\"dataframe\">\n",
       "  <thead>\n",
       "    <tr style=\"text-align: right;\">\n",
       "      <th></th>\n",
       "      <th>Tiêu đề</th>\n",
       "      <th>Hãng</th>\n",
       "      <th>Dòng xe</th>\n",
       "      <th>Năm sản xuất</th>\n",
       "      <th>Số km đã đi</th>\n",
       "      <th>Tình trạng</th>\n",
       "      <th>Hộp số</th>\n",
       "      <th>Nhiên liệu</th>\n",
       "      <th>Xuất xứ</th>\n",
       "      <th>Kiểu dáng</th>\n",
       "      <th>Số chỗ</th>\n",
       "      <th>Giá</th>\n",
       "    </tr>\n",
       "  </thead>\n",
       "  <tbody>\n",
       "    <tr>\n",
       "      <th>0</th>\n",
       "      <td>bán xe Xpander chính chủ</td>\n",
       "      <td>Mitsubishi</td>\n",
       "      <td>Xpander</td>\n",
       "      <td>2019</td>\n",
       "      <td>50000.0</td>\n",
       "      <td>Đã sử dụng</td>\n",
       "      <td>Tự động</td>\n",
       "      <td>Xăng</td>\n",
       "      <td>Nước khác</td>\n",
       "      <td>NaN</td>\n",
       "      <td>NaN</td>\n",
       "      <td>460.000.000 đ</td>\n",
       "    </tr>\n",
       "    <tr>\n",
       "      <th>1</th>\n",
       "      <td>Lên đời bán xe Pajero Sport mua hãng còn mới</td>\n",
       "      <td>Mitsubishi</td>\n",
       "      <td>Pajero Sport</td>\n",
       "      <td>2021</td>\n",
       "      <td>60000.0</td>\n",
       "      <td>Đã sử dụng</td>\n",
       "      <td>Tự động</td>\n",
       "      <td>Dầu</td>\n",
       "      <td>Thái Lan</td>\n",
       "      <td>NaN</td>\n",
       "      <td>NaN</td>\n",
       "      <td>830.000.000 đ</td>\n",
       "    </tr>\n",
       "    <tr>\n",
       "      <th>2</th>\n",
       "      <td>Ford Everest Wildtrak, Đủ màu giao ngay</td>\n",
       "      <td>Ford</td>\n",
       "      <td>Everest</td>\n",
       "      <td>2023</td>\n",
       "      <td>NaN</td>\n",
       "      <td>Mới</td>\n",
       "      <td>Bán tự động</td>\n",
       "      <td>Dầu</td>\n",
       "      <td>Thái Lan</td>\n",
       "      <td>SUV / Cross over</td>\n",
       "      <td>NaN</td>\n",
       "      <td>1.409.000.000 đ</td>\n",
       "    </tr>\n",
       "    <tr>\n",
       "      <th>3</th>\n",
       "      <td>Everest 4x4 2023 giảm giá tới 120tr góp từ 250tr</td>\n",
       "      <td>Ford</td>\n",
       "      <td>Everest</td>\n",
       "      <td>2023</td>\n",
       "      <td>NaN</td>\n",
       "      <td>Mới</td>\n",
       "      <td>Tự động</td>\n",
       "      <td>Dầu</td>\n",
       "      <td>Thái Lan</td>\n",
       "      <td>SUV / Cross over</td>\n",
       "      <td>NaN</td>\n",
       "      <td>1.352.000.000 đ</td>\n",
       "    </tr>\n",
       "    <tr>\n",
       "      <th>4</th>\n",
       "      <td>cần bán xe lux A 2.0 đời 2019 Bản prelium mới đét</td>\n",
       "      <td>Vinfast</td>\n",
       "      <td>Lux A2.0</td>\n",
       "      <td>2019</td>\n",
       "      <td>26000.0</td>\n",
       "      <td>Đã sử dụng</td>\n",
       "      <td>Tự động</td>\n",
       "      <td>Xăng</td>\n",
       "      <td>Việt Nam</td>\n",
       "      <td>NaN</td>\n",
       "      <td>NaN</td>\n",
       "      <td>605.000.000 đ</td>\n",
       "    </tr>\n",
       "  </tbody>\n",
       "</table>\n",
       "</div>"
      ],
      "text/plain": [
       "                                             Tiêu đề        Hãng   \n",
       "0                           bán xe Xpander chính chủ  Mitsubishi  \\\n",
       "1       Lên đời bán xe Pajero Sport mua hãng còn mới  Mitsubishi   \n",
       "2            Ford Everest Wildtrak, Đủ màu giao ngay        Ford   \n",
       "3   Everest 4x4 2023 giảm giá tới 120tr góp từ 250tr        Ford   \n",
       "4  cần bán xe lux A 2.0 đời 2019 Bản prelium mới đét     Vinfast   \n",
       "\n",
       "        Dòng xe Năm sản xuất  Số km đã đi  Tình trạng       Hộp số Nhiên liệu   \n",
       "0       Xpander         2019      50000.0  Đã sử dụng      Tự động       Xăng  \\\n",
       "1  Pajero Sport         2021      60000.0  Đã sử dụng      Tự động        Dầu   \n",
       "2       Everest         2023          NaN         Mới  Bán tự động        Dầu   \n",
       "3       Everest         2023          NaN         Mới      Tự động        Dầu   \n",
       "4      Lux A2.0         2019      26000.0  Đã sử dụng      Tự động       Xăng   \n",
       "\n",
       "     Xuất xứ         Kiểu dáng Số chỗ              Giá  \n",
       "0  Nước khác               NaN    NaN    460.000.000 đ  \n",
       "1   Thái Lan               NaN    NaN    830.000.000 đ  \n",
       "2   Thái Lan  SUV / Cross over    NaN  1.409.000.000 đ  \n",
       "3   Thái Lan  SUV / Cross over    NaN  1.352.000.000 đ  \n",
       "4   Việt Nam               NaN    NaN    605.000.000 đ  "
      ]
     },
     "execution_count": 149,
     "metadata": {},
     "output_type": "execute_result"
    }
   ],
   "source": [
    "chotot = pd.read_csv('Data/Chotot.csv')\n",
    "chotot.head()"
   ]
  },
  {
   "cell_type": "markdown",
   "metadata": {},
   "source": [
    "#### Change value '-' into null"
   ]
  },
  {
   "cell_type": "code",
   "execution_count": 150,
   "metadata": {},
   "outputs": [],
   "source": [
    "for col in bonbanh:\n",
    "    bonbanh[col] = bonbanh[col].replace('-', np.nan)"
   ]
  },
  {
   "cell_type": "markdown",
   "metadata": {},
   "source": [
    "#### Remove all price-missing car"
   ]
  },
  {
   "cell_type": "code",
   "execution_count": 151,
   "metadata": {},
   "outputs": [],
   "source": [
    "chotot = chotot.dropna(subset=['Giá'])"
   ]
  },
  {
   "cell_type": "markdown",
   "metadata": {},
   "source": [
    "#### Convert **Number of km traveled** to int and change it to *0* for all new cars"
   ]
  },
  {
   "cell_type": "code",
   "execution_count": 152,
   "metadata": {},
   "outputs": [],
   "source": [
    "bonbanh['Số km đã đi'] = bonbanh['Số km đã đi'].replace('Xe mới', '0 Km')\n",
    "bonbanh['Số km đã đi'] = bonbanh['Số km đã đi'].str.replace('Km', '')\n",
    "def change_to_int(so_km):\n",
    "    km = 0\n",
    "    so_km = [int(x) for x in so_km.split(',')]\n",
    "    n = len(so_km)\n",
    "    for i in range(n):\n",
    "        km += 1000**(n-i-1)*so_km[i] \n",
    "    return km\n",
    "bonbanh['Số km đã đi'] = bonbanh['Số km đã đi'].apply(change_to_int)"
   ]
  },
  {
   "cell_type": "code",
   "execution_count": 153,
   "metadata": {},
   "outputs": [],
   "source": [
    "chotot.loc[chotot['Tình trạng'] == 'Mới', 'Số km đã đi'] = 0"
   ]
  },
  {
   "cell_type": "markdown",
   "metadata": {},
   "source": [
    "#### Convert **Price** into *Million* unit"
   ]
  },
  {
   "cell_type": "code",
   "execution_count": 154,
   "metadata": {},
   "outputs": [],
   "source": [
    "def convert_price(price):\n",
    "    price = price.split(\" \")\n",
    "    if len(price) == 4:\n",
    "        return int(price[0])*1000 + int(price[2])\n",
    "    else:\n",
    "        if price[-1] == 'Tỷ':\n",
    "            return int(price[0]) * 1000\n",
    "        else:\n",
    "            return int(price[0])\n",
    "bonbanh['Giá xe'] = bonbanh['Giá xe'].apply(convert_price)\n",
    "bonbanh = bonbanh.rename(columns = {'Giá xe': 'Giá (triệu)'})\n",
    "bonbanh['Giá (triệu)'] = bonbanh['Giá (triệu)'].astype('int64')"
   ]
  },
  {
   "cell_type": "code",
   "execution_count": 155,
   "metadata": {},
   "outputs": [],
   "source": [
    "chotot['Giá'] = chotot['Giá'].astype(str).str.rstrip('đ')\n",
    "def price_convert(x):\n",
    "    l = x.split('.')\n",
    "    return ''.join(l[0:len(l)-2:1])\n",
    "chotot['Giá'] = chotot['Giá'].apply(price_convert)\n",
    "chotot = chotot.rename(columns = {'Giá': 'Giá (triệu)'})\n",
    "chotot['Giá (triệu)'] = chotot['Giá (triệu)'].astype('int64')"
   ]
  },
  {
   "cell_type": "markdown",
   "metadata": {},
   "source": [
    "#### Change **State**"
   ]
  },
  {
   "cell_type": "code",
   "execution_count": 156,
   "metadata": {},
   "outputs": [],
   "source": [
    "chotot['Tình trạng'] = chotot['Tình trạng'].replace('Đã sử dụng', 'Xe đã dùng')\n",
    "chotot['Tình trạng'] = chotot['Tình trạng'].replace('Mới', 'Xe mới')"
   ]
  },
  {
   "cell_type": "markdown",
   "metadata": {},
   "source": [
    "#### Change **Gearbox**"
   ]
  },
  {
   "cell_type": "code",
   "execution_count": 157,
   "metadata": {},
   "outputs": [],
   "source": [
    "def change_gearbox(x):   \n",
    "    if x == 'Tự động' or x == '4':\n",
    "        return 'Số tự động'\n",
    "    elif x == 'Bán tự động':\n",
    "        return 'Số hỗn hợp'\n",
    "    elif x == 'Số sàn' or x == '5':\n",
    "        return 'Số tay'\n",
    "    else:\n",
    "        return x\n",
    "chotot['Hộp số'] = chotot['Hộp số'].apply(change_gearbox)"
   ]
  },
  {
   "cell_type": "markdown",
   "metadata": {},
   "source": [
    "#### Change **Design** "
   ]
  },
  {
   "cell_type": "code",
   "execution_count": 158,
   "metadata": {},
   "outputs": [],
   "source": [
    "def change_design(x):\n",
    "    if x == 'Bán tải / Pickup' or x == 'Pick-up (bán tải)':\n",
    "        return 'Pickup'\n",
    "    elif x == 'SUV' or x == 'Crossover':\n",
    "        return 'SUV /Crossover'\n",
    "    elif x == 'Van' or x == 'Minivan (MPV)':\n",
    "        return 'Van/Minivan'\n",
    "    elif x == 'Coupe (2 cửa)':\n",
    "        return 'Coupe'\n",
    "    elif x == 'Convertible/Cabriolet' or x == 'Mui trần':\n",
    "        return 'Convertible'\n",
    "    elif x == 'Truck' or x == 'Wagon':\n",
    "        return 'Kiểu dáng khác'\n",
    "    else:\n",
    "        return x\n",
    "bonbanh['Kiểu dáng'] = bonbanh['Kiểu dáng'].apply(change_design)\n",
    "chotot['Kiểu dáng'] = chotot['Kiểu dáng'].apply(change_design)"
   ]
  },
  {
   "cell_type": "markdown",
   "metadata": {},
   "source": [
    "#### Change **Origin** into *Domestical* or *Imported* "
   ]
  },
  {
   "cell_type": "code",
   "execution_count": 159,
   "metadata": {},
   "outputs": [],
   "source": [
    "def change_origin(x):\n",
    "    if x == 'Việt Nam' or x == 'Lắp ráp trong nước':\n",
    "        return 'Trong nước'\n",
    "    elif x in ['Nước khác', 'Thái Lan', 'Hàn Quốc', 'Đang cập nhật', 'Mỹ', 'Nhật Bản', 'Đức', 'Đài Loan', 'Ấn Độ', 'Trung Quốc']:\n",
    "        return 'Nhập khẩu'\n",
    "    else:\n",
    "        return x\n",
    "bonbanh['Xuất xứ'] = bonbanh['Xuất xứ'].apply(change_origin)\n",
    "chotot['Xuất xứ'] = chotot['Xuất xứ'].apply(change_origin)"
   ]
  },
  {
   "cell_type": "markdown",
   "metadata": {},
   "source": [
    "#### Take **Capacity** and **Engine** from **Fuel type**"
   ]
  },
  {
   "cell_type": "code",
   "execution_count": 160,
   "metadata": {},
   "outputs": [],
   "source": [
    "bonbanh['Dung tích'] = bonbanh['Động cơ'].str.extract(r'(\\d\\.\\d)')\n",
    "bonbanh = bonbanh.rename(columns = {'Động cơ': 'Nhiên liệu'})\n",
    "bonbanh['Nhiên liệu'] = bonbanh['Nhiên liệu'].str.extract(r'(Xăng|Dầu|Hybrid|Điện)')\n",
    "bonbanh.loc[bonbanh['Nhiên liệu'] == 'Điện', 'Dung tích'] = 0.0\n",
    "bonbanh['Dung tích'] = bonbanh['Dung tích'].astype('float64')"
   ]
  },
  {
   "cell_type": "code",
   "execution_count": 161,
   "metadata": {},
   "outputs": [],
   "source": [
    "chotot['Dung tích'] = np.nan"
   ]
  },
  {
   "cell_type": "markdown",
   "metadata": {},
   "source": [
    "#### Take **Brand** and **Series** from **Name**"
   ]
  },
  {
   "cell_type": "code",
   "execution_count": 162,
   "metadata": {},
   "outputs": [],
   "source": [
    "bonbanh['Tên xe'] = bonbanh['Tên xe'].str.replace('Xe ', '')\n",
    "check =  lambda x : 'Nan'.join(x.split()[:1]) if x.split()[0] != \"Mercedes\" else ' '.join(x.split()[:2])\n",
    "cartype = bonbanh['Tên xe'].apply(check)\n",
    "bonbanh['Hãng'] = cartype\n",
    "\n",
    "bonbanh['Tên xe'] = bonbanh['Tên xe'].apply(lambda x : ' '.join(x.split()[1:]) if x.split()[0] != \"Mercedes\" else ' '.join(x.split()[2:]))\n",
    "\n",
    "classcheck = lambda x: np.nan if x.split() == [] else (' '.join(x.split()[:2]) if (x.split()[0] == \"4\" or x.split()[0]==\"Range Rover\" or x.split()[0]==\"Lux\" or x.split()[0]== \"Range\" or x.split()[0] == \"Corolla\" ) else ' '.join(x.split()[:1]))\n",
    "bonbanh['Dòng xe'] = bonbanh['Tên xe'].apply(classcheck)\n",
    "\n",
    "def cross_toyota_check(x):\n",
    "    if x[\"Tên xe\"].split().count(\"Cross\") > 0:\n",
    "        return x[\"Dòng xe\"]+ \" \" + \"Cross\"\n",
    "    elif x[\"Tên xe\"].split().count(\"Altis\") > 0:\n",
    "        return x[\"Dòng xe\"]+ \" \" + \"Altis\"\n",
    "    else:\n",
    "        return x[\"Dòng xe\"]\n",
    "\n",
    "bonbanh[\"Dòng xe\"] = bonbanh.apply(cross_toyota_check, axis=1)\n",
    "\n",
    "bonbanh['Dòng xe'] = bonbanh['Dòng xe'].str.replace(' ', '')\n",
    "bonbanh['Dòng xe'] = bonbanh['Dòng xe'].str.replace('-', '')\n",
    "\n",
    "bonbanh['Dòng xe'] = bonbanh['Dòng xe'].str.lower()\n",
    "\n",
    "def mercedes_class(x):\n",
    "    if x[\"Hãng\"] == \"Mercedes\":\n",
    "        if x['Dòng xe'] == \"c\" or x['Dòng xe'] == \"e\" or x['Dòng xe'] == \"s\" or x['Dòng xe'] == \"g\" or x['Dòng xe'] == \"a\" or x['Dòng xe'] == \"b\":\n",
    "            return x[\"Dòng xe\"] + \"class\"\n",
    "        else:\n",
    "            return x[\"Dòng xe\"]\n",
    "    else:\n",
    "        return x[\"Dòng xe\"]\n",
    "    \n",
    "bonbanh[\"Dòng xe\"] = bonbanh.apply(mercedes_class, axis=1)"
   ]
  },
  {
   "cell_type": "code",
   "execution_count": 163,
   "metadata": {},
   "outputs": [],
   "source": [
    "def corolla_altis(x):\n",
    "    if x[\"Dòng xe\"] == \"Corolla\":\n",
    "        return x[\"Dòng xe\"] + \" \" + \"altis\"\n",
    "    else:\n",
    "        return x[\"Dòng xe\"]\n",
    "chotot[\"Dòng xe\"] = chotot.apply(corolla_altis, axis=1)"
   ]
  },
  {
   "cell_type": "code",
   "execution_count": 164,
   "metadata": {},
   "outputs": [],
   "source": [
    "chotot[\"Dòng xe\"] = chotot[\"Dòng xe\"].str.lower()"
   ]
  },
  {
   "cell_type": "code",
   "execution_count": 165,
   "metadata": {},
   "outputs": [
    {
     "name": "stdout",
     "output_type": "stream",
     "text": [
      "<class 'pandas.core.frame.DataFrame'>\n",
      "Index: 19994 entries, 0 to 20009\n",
      "Data columns (total 13 columns):\n",
      " #   Column        Non-Null Count  Dtype  \n",
      "---  ------        --------------  -----  \n",
      " 0   Tiêu đề       19994 non-null  object \n",
      " 1   Hãng          19993 non-null  object \n",
      " 2   Dòng xe       19993 non-null  object \n",
      " 3   Năm sản xuất  19993 non-null  object \n",
      " 4   Số km đã đi   19731 non-null  float64\n",
      " 5   Tình trạng    19994 non-null  object \n",
      " 6   Hộp số        19992 non-null  object \n",
      " 7   Nhiên liệu    19991 non-null  object \n",
      " 8   Xuất xứ       16129 non-null  object \n",
      " 9   Kiểu dáng     6140 non-null   object \n",
      " 10  Số chỗ        526 non-null    object \n",
      " 11  Giá (triệu)   19994 non-null  int64  \n",
      " 12  Dung tích     0 non-null      float64\n",
      "dtypes: float64(2), int64(1), object(10)\n",
      "memory usage: 2.1+ MB\n"
     ]
    }
   ],
   "source": [
    "chotot.info()"
   ]
  },
  {
   "cell_type": "markdown",
   "metadata": {},
   "source": [
    "#### Convert **Number of seats** to int"
   ]
  },
  {
   "cell_type": "code",
   "execution_count": 166,
   "metadata": {},
   "outputs": [],
   "source": [
    "bonbanh['Số chỗ ngồi'] = bonbanh['Số chỗ ngồi'].str.replace('chỗ', '')\n",
    "bonbanh = bonbanh.rename(columns = {'Số chỗ ngồi': 'Số chỗ'})"
   ]
  },
  {
   "cell_type": "code",
   "execution_count": 184,
   "metadata": {},
   "outputs": [],
   "source": [
    "chotot = chotot[chotot['Số chỗ'] != 'Khác']"
   ]
  },
  {
   "cell_type": "code",
   "execution_count": null,
   "metadata": {},
   "outputs": [],
   "source": [
    "bonbanh['Số chỗ'] = bonbanh['Số chỗ'].astype('float64')\n",
    "chotot['Số chỗ'] = chotot['Số chỗ'].astype('float64')"
   ]
  },
  {
   "cell_type": "markdown",
   "metadata": {},
   "source": [
    "#### Select same columns in the same order"
   ]
  },
  {
   "cell_type": "code",
   "execution_count": 167,
   "metadata": {},
   "outputs": [],
   "source": [
    "bonbanh = bonbanh[['Hãng','Dòng xe', 'Năm sản xuất','Tình trạng', 'Số km đã đi', 'Xuất xứ', 'Kiểu dáng', 'Hộp số', 'Nhiên liệu', 'Dung tích', 'Số chỗ', 'Giá (triệu)']]\n",
    "chotot  =  chotot[['Hãng','Dòng xe', 'Năm sản xuất','Tình trạng', 'Số km đã đi', 'Xuất xứ', 'Kiểu dáng', 'Hộp số', 'Nhiên liệu', 'Dung tích', 'Số chỗ', 'Giá (triệu)']]"
   ]
  },
  {
   "cell_type": "markdown",
   "metadata": {},
   "source": [
    "## Handle missing value"
   ]
  },
  {
   "cell_type": "markdown",
   "metadata": {},
   "source": [
    "#### Fill missing values in **Design**, **Number of seats**, **Capacity** column"
   ]
  },
  {
   "cell_type": "code",
   "execution_count": 168,
   "metadata": {},
   "outputs": [],
   "source": [
    "def find_car(brand,series):\n",
    "    return bonbanh[(bonbanh['Hãng'] == brand) & (bonbanh[\"Dòng xe\"] == series)]\n",
    "\n",
    "def fill_design(x):\n",
    "    data1 = find_car(x['Hãng'],x['Dòng xe'])\n",
    "    if data1.empty:\n",
    "        return x['Kiểu dáng']\n",
    "    else:\n",
    "        return data1['Kiểu dáng'].iloc[0]\n",
    "\n",
    "def fill_seat(x):\n",
    "    data1 = find_car(x['Hãng'],x['Dòng xe'])\n",
    "    if data1.empty:\n",
    "        return x['Số chỗ']\n",
    "    else:\n",
    "        return data1['Số chỗ'].iloc[0]\n",
    "\n",
    "def fill_capacity(x):\n",
    "    data1 = find_car(x['Hãng'],x['Dòng xe'])\n",
    "    if data1.empty:\n",
    "        return x['Dung tích']\n",
    "    else:\n",
    "        return data1['Dung tích'].iloc[0]\n",
    "\n",
    "chotot[\"Kiểu dáng\"] = chotot.apply(fill_design,axis=1)\n",
    "chotot[\"Số chỗ\"] = chotot.apply(fill_seat,axis=1)\n",
    "chotot[\"Dung tích\"] = chotot.apply(fill_capacity,axis=1)"
   ]
  },
  {
   "cell_type": "markdown",
   "metadata": {},
   "source": [
    "## Combine **bonbanh** and **chotot**"
   ]
  },
  {
   "cell_type": "code",
   "execution_count": 186,
   "metadata": {},
   "outputs": [],
   "source": [
    "data = pd.concat([bonbanh, chotot], ignore_index=True)"
   ]
  },
  {
   "cell_type": "code",
   "execution_count": 177,
   "metadata": {},
   "outputs": [
    {
     "name": "stdout",
     "output_type": "stream",
     "text": [
      "<class 'pandas.core.frame.DataFrame'>\n",
      "RangeIndex: 38357 entries, 0 to 38356\n",
      "Data columns (total 12 columns):\n",
      " #   Column        Non-Null Count  Dtype  \n",
      "---  ------        --------------  -----  \n",
      " 0   Hãng          38356 non-null  object \n",
      " 1   Dòng xe       38348 non-null  object \n",
      " 2   Năm sản xuất  38356 non-null  object \n",
      " 3   Tình trạng    38357 non-null  object \n",
      " 4   Số km đã đi   38094 non-null  float64\n",
      " 5   Xuất xứ       34492 non-null  object \n",
      " 6   Kiểu dáng     34568 non-null  object \n",
      " 7   Hộp số        38348 non-null  object \n",
      " 8   Nhiên liệu    38349 non-null  object \n",
      " 9   Dung tích     32708 non-null  float64\n",
      " 10  Số chỗ        33209 non-null  object \n",
      " 11  Giá (triệu)   38357 non-null  int64  \n",
      "dtypes: float64(2), int64(1), object(9)\n",
      "memory usage: 3.5+ MB\n"
     ]
    }
   ],
   "source": [
    "data.info()"
   ]
  },
  {
   "cell_type": "code",
   "execution_count": 189,
   "metadata": {},
   "outputs": [],
   "source": [
    "data = data.drop('Dòng xe', axis=1)"
   ]
  },
  {
   "cell_type": "code",
   "execution_count": 190,
   "metadata": {},
   "outputs": [
    {
     "name": "stdout",
     "output_type": "stream",
     "text": [
      "<class 'pandas.core.frame.DataFrame'>\n",
      "RangeIndex: 38354 entries, 0 to 38353\n",
      "Data columns (total 11 columns):\n",
      " #   Column        Non-Null Count  Dtype  \n",
      "---  ------        --------------  -----  \n",
      " 0   Hãng          38353 non-null  object \n",
      " 1   Năm sản xuất  38353 non-null  object \n",
      " 2   Tình trạng    38354 non-null  object \n",
      " 3   Số km đã đi   38091 non-null  float64\n",
      " 4   Xuất xứ       34490 non-null  object \n",
      " 5   Kiểu dáng     34568 non-null  object \n",
      " 6   Hộp số        38345 non-null  object \n",
      " 7   Nhiên liệu    38346 non-null  object \n",
      " 8   Dung tích     32708 non-null  float64\n",
      " 9   Số chỗ        33206 non-null  float64\n",
      " 10  Giá (triệu)   38354 non-null  int64  \n",
      "dtypes: float64(3), int64(1), object(7)\n",
      "memory usage: 3.2+ MB\n"
     ]
    }
   ],
   "source": [
    "data.info()"
   ]
  },
  {
   "cell_type": "code",
   "execution_count": 191,
   "metadata": {},
   "outputs": [],
   "source": [
    "data.to_csv('Data/data.csv', index=False)"
   ]
  }
 ],
 "metadata": {
  "kernelspec": {
   "display_name": "Python 3",
   "language": "python",
   "name": "python3"
  },
  "language_info": {
   "codemirror_mode": {
    "name": "ipython",
    "version": 3
   },
   "file_extension": ".py",
   "mimetype": "text/x-python",
   "name": "python",
   "nbconvert_exporter": "python",
   "pygments_lexer": "ipython3",
   "version": "3.10.4"
  }
 },
 "nbformat": 4,
 "nbformat_minor": 2
}
