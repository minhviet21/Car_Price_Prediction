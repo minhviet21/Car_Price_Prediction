{
 "cells": [
  {
   "cell_type": "markdown",
   "metadata": {},
   "source": [
    "Import libraries"
   ]
  },
  {
   "cell_type": "code",
   "execution_count": null,
   "metadata": {},
   "outputs": [],
   "source": []
  },
  {
   "cell_type": "code",
   "execution_count": 3,
   "metadata": {},
   "outputs": [],
   "source": [
    "import pandas as pd"
   ]
  },
  {
   "cell_type": "markdown",
   "metadata": {},
   "source": [
    "Vizualize the data"
   ]
  },
  {
   "cell_type": "code",
   "execution_count": 4,
   "metadata": {},
   "outputs": [
    {
     "data": {
      "text/html": [
       "<div>\n",
       "<style scoped>\n",
       "    .dataframe tbody tr th:only-of-type {\n",
       "        vertical-align: middle;\n",
       "    }\n",
       "\n",
       "    .dataframe tbody tr th {\n",
       "        vertical-align: top;\n",
       "    }\n",
       "\n",
       "    .dataframe thead th {\n",
       "        text-align: right;\n",
       "    }\n",
       "</style>\n",
       "<table border=\"1\" class=\"dataframe\">\n",
       "  <thead>\n",
       "    <tr style=\"text-align: right;\">\n",
       "      <th></th>\n",
       "      <th>Tên xe</th>\n",
       "      <th>Năm sản xuất</th>\n",
       "      <th>Tình trạng</th>\n",
       "      <th>Số km đã đi</th>\n",
       "      <th>Xuất xứ</th>\n",
       "      <th>Kiểu dáng</th>\n",
       "      <th>Hộp số</th>\n",
       "      <th>Động cơ</th>\n",
       "      <th>Màu ngoại thất</th>\n",
       "      <th>Màu nội thất</th>\n",
       "      <th>Dẫn động</th>\n",
       "      <th>Số chỗ ngồi</th>\n",
       "      <th>Giá xe</th>\n",
       "    </tr>\n",
       "  </thead>\n",
       "  <tbody>\n",
       "    <tr>\n",
       "      <th>0</th>\n",
       "      <td>Xe Peugeot 2008 Active 1.2 AT</td>\n",
       "      <td>2022</td>\n",
       "      <td>Xe đã dùng</td>\n",
       "      <td>30,000 Km</td>\n",
       "      <td>Lắp ráp trong nước</td>\n",
       "      <td>Crossover</td>\n",
       "      <td>Số tự động</td>\n",
       "      <td>Xăng  1.2 L</td>\n",
       "      <td>Đỏ</td>\n",
       "      <td>Đen</td>\n",
       "      <td>FWD - Dẫn động cầu trước</td>\n",
       "      <td>5 chỗ</td>\n",
       "      <td>679 Triệu</td>\n",
       "    </tr>\n",
       "    <tr>\n",
       "      <th>1</th>\n",
       "      <td>Xe Mercedes Benz C class C300 AMG</td>\n",
       "      <td>2014</td>\n",
       "      <td>Xe đã dùng</td>\n",
       "      <td>90,000 Km</td>\n",
       "      <td>Lắp ráp trong nước</td>\n",
       "      <td>Sedan</td>\n",
       "      <td>Số tự động</td>\n",
       "      <td>Xăng  3.0 L</td>\n",
       "      <td>Trắng</td>\n",
       "      <td>Đen</td>\n",
       "      <td>RFD - Dẫn động cầu sau</td>\n",
       "      <td>5 chỗ</td>\n",
       "      <td>499 Triệu</td>\n",
       "    </tr>\n",
       "    <tr>\n",
       "      <th>2</th>\n",
       "      <td>Xe Mercedes Benz E class E200 Exclusive</td>\n",
       "      <td>2022</td>\n",
       "      <td>Xe đã dùng</td>\n",
       "      <td>500 Km</td>\n",
       "      <td>Lắp ráp trong nước</td>\n",
       "      <td>Sedan</td>\n",
       "      <td>Số tự động</td>\n",
       "      <td>Xăng  2.0 L</td>\n",
       "      <td>Đen</td>\n",
       "      <td>Nâu</td>\n",
       "      <td>RFD - Dẫn động cầu sau</td>\n",
       "      <td>5 chỗ</td>\n",
       "      <td>2 Tỷ 229 Triệu</td>\n",
       "    </tr>\n",
       "    <tr>\n",
       "      <th>3</th>\n",
       "      <td>Xe Mercedes Benz C class C200 Avantgarde</td>\n",
       "      <td>2021</td>\n",
       "      <td>Xe đã dùng</td>\n",
       "      <td>80 Km</td>\n",
       "      <td>Lắp ráp trong nước</td>\n",
       "      <td>Sedan</td>\n",
       "      <td>Số tự động</td>\n",
       "      <td>Xăng  1.5 L</td>\n",
       "      <td>Xanh</td>\n",
       "      <td>Nâu</td>\n",
       "      <td>RFD - Dẫn động cầu sau</td>\n",
       "      <td>5 chỗ</td>\n",
       "      <td>1 Tỷ 399 Triệu</td>\n",
       "    </tr>\n",
       "    <tr>\n",
       "      <th>4</th>\n",
       "      <td>Xe Mercedes Benz E class E200 Exclusive</td>\n",
       "      <td>2022</td>\n",
       "      <td>Xe đã dùng</td>\n",
       "      <td>8,888 Km</td>\n",
       "      <td>Lắp ráp trong nước</td>\n",
       "      <td>Sedan</td>\n",
       "      <td>Số tự động</td>\n",
       "      <td>Xăng  2.0 L</td>\n",
       "      <td>Trắng</td>\n",
       "      <td>Nâu</td>\n",
       "      <td>RFD - Dẫn động cầu sau</td>\n",
       "      <td>5 chỗ</td>\n",
       "      <td>1 Tỷ 788 Triệu</td>\n",
       "    </tr>\n",
       "    <tr>\n",
       "      <th>...</th>\n",
       "      <td>...</td>\n",
       "      <td>...</td>\n",
       "      <td>...</td>\n",
       "      <td>...</td>\n",
       "      <td>...</td>\n",
       "      <td>...</td>\n",
       "      <td>...</td>\n",
       "      <td>...</td>\n",
       "      <td>...</td>\n",
       "      <td>...</td>\n",
       "      <td>...</td>\n",
       "      <td>...</td>\n",
       "      <td>...</td>\n",
       "    </tr>\n",
       "    <tr>\n",
       "      <th>18358</th>\n",
       "      <td>Xe Kia Morning LX 1.0 AT</td>\n",
       "      <td>2009</td>\n",
       "      <td>Xe đã dùng</td>\n",
       "      <td>1,111 Km</td>\n",
       "      <td>Nhập khẩu</td>\n",
       "      <td>Hatchback</td>\n",
       "      <td>Số tự động</td>\n",
       "      <td>Xăng  1.0 L</td>\n",
       "      <td>Bạc</td>\n",
       "      <td>Kem</td>\n",
       "      <td>FWD - Dẫn động cầu trước</td>\n",
       "      <td>5 chỗ</td>\n",
       "      <td>158 Triệu</td>\n",
       "    </tr>\n",
       "    <tr>\n",
       "      <th>18359</th>\n",
       "      <td>Xe Hyundai Accent 1.4 MT</td>\n",
       "      <td>2018</td>\n",
       "      <td>Xe đã dùng</td>\n",
       "      <td>80,000 Km</td>\n",
       "      <td>Lắp ráp trong nước</td>\n",
       "      <td>Sedan</td>\n",
       "      <td>Số tay</td>\n",
       "      <td>Xăng  1.4 L</td>\n",
       "      <td>Trắng</td>\n",
       "      <td>Kem</td>\n",
       "      <td>FWD - Dẫn động cầu trước</td>\n",
       "      <td>5 chỗ</td>\n",
       "      <td>328 Triệu</td>\n",
       "    </tr>\n",
       "    <tr>\n",
       "      <th>18360</th>\n",
       "      <td>Xe Toyota Vios G 1.5 CVT</td>\n",
       "      <td>2023</td>\n",
       "      <td>Xe mới</td>\n",
       "      <td>Xe mới</td>\n",
       "      <td>Lắp ráp trong nước</td>\n",
       "      <td>Sedan</td>\n",
       "      <td>Số tự động</td>\n",
       "      <td>Xăng  1.5 L</td>\n",
       "      <td>Trắng</td>\n",
       "      <td>Đen</td>\n",
       "      <td>FWD - Dẫn động cầu trước</td>\n",
       "      <td>5 chỗ</td>\n",
       "      <td>592 Triệu</td>\n",
       "    </tr>\n",
       "    <tr>\n",
       "      <th>18361</th>\n",
       "      <td>Xe Mitsubishi Attrage 1.2 CVT</td>\n",
       "      <td>2023</td>\n",
       "      <td>Xe mới</td>\n",
       "      <td>Xe mới</td>\n",
       "      <td>Nhập khẩu</td>\n",
       "      <td>Sedan</td>\n",
       "      <td>Số tự động</td>\n",
       "      <td>Xăng  1.2 L</td>\n",
       "      <td>Xám</td>\n",
       "      <td>Đen</td>\n",
       "      <td>FWD - Dẫn động cầu trước</td>\n",
       "      <td>5 chỗ</td>\n",
       "      <td>465 Triệu</td>\n",
       "    </tr>\n",
       "    <tr>\n",
       "      <th>18362</th>\n",
       "      <td>Xe Toyota Camry 2.5Q</td>\n",
       "      <td>2020</td>\n",
       "      <td>Xe đã dùng</td>\n",
       "      <td>68,000 Km</td>\n",
       "      <td>Nhập khẩu</td>\n",
       "      <td>Sedan</td>\n",
       "      <td>Số tự động</td>\n",
       "      <td>Xăng  2.5 L</td>\n",
       "      <td>Đỏ</td>\n",
       "      <td>Kem</td>\n",
       "      <td>FWD - Dẫn động cầu trước</td>\n",
       "      <td>5 chỗ</td>\n",
       "      <td>879 Triệu</td>\n",
       "    </tr>\n",
       "  </tbody>\n",
       "</table>\n",
       "<p>18363 rows × 13 columns</p>\n",
       "</div>"
      ],
      "text/plain": [
       "                                         Tên xe  Năm sản xuất  Tình trạng  \\\n",
       "0                 Xe Peugeot 2008 Active 1.2 AT          2022  Xe đã dùng   \n",
       "1             Xe Mercedes Benz C class C300 AMG          2014  Xe đã dùng   \n",
       "2       Xe Mercedes Benz E class E200 Exclusive          2022  Xe đã dùng   \n",
       "3      Xe Mercedes Benz C class C200 Avantgarde          2021  Xe đã dùng   \n",
       "4       Xe Mercedes Benz E class E200 Exclusive          2022  Xe đã dùng   \n",
       "...                                         ...           ...         ...   \n",
       "18358                  Xe Kia Morning LX 1.0 AT          2009  Xe đã dùng   \n",
       "18359                  Xe Hyundai Accent 1.4 MT          2018  Xe đã dùng   \n",
       "18360                  Xe Toyota Vios G 1.5 CVT          2023      Xe mới   \n",
       "18361             Xe Mitsubishi Attrage 1.2 CVT          2023      Xe mới   \n",
       "18362                      Xe Toyota Camry 2.5Q          2020  Xe đã dùng   \n",
       "\n",
       "      Số km đã đi             Xuất xứ  Kiểu dáng      Hộp số      Động cơ  \\\n",
       "0       30,000 Km  Lắp ráp trong nước  Crossover  Số tự động  Xăng  1.2 L   \n",
       "1       90,000 Km  Lắp ráp trong nước      Sedan  Số tự động  Xăng  3.0 L   \n",
       "2          500 Km  Lắp ráp trong nước      Sedan  Số tự động  Xăng  2.0 L   \n",
       "3           80 Km  Lắp ráp trong nước      Sedan  Số tự động  Xăng  1.5 L   \n",
       "4        8,888 Km  Lắp ráp trong nước      Sedan  Số tự động  Xăng  2.0 L   \n",
       "...           ...                 ...        ...         ...          ...   \n",
       "18358    1,111 Km           Nhập khẩu  Hatchback  Số tự động  Xăng  1.0 L   \n",
       "18359   80,000 Km  Lắp ráp trong nước      Sedan      Số tay  Xăng  1.4 L   \n",
       "18360      Xe mới  Lắp ráp trong nước      Sedan  Số tự động  Xăng  1.5 L   \n",
       "18361      Xe mới           Nhập khẩu      Sedan  Số tự động  Xăng  1.2 L   \n",
       "18362   68,000 Km           Nhập khẩu      Sedan  Số tự động  Xăng  2.5 L   \n",
       "\n",
       "      Màu ngoại thất Màu nội thất                  Dẫn động Số chỗ ngồi  \\\n",
       "0                 Đỏ          Đen  FWD - Dẫn động cầu trước       5 chỗ   \n",
       "1              Trắng          Đen    RFD - Dẫn động cầu sau       5 chỗ   \n",
       "2                Đen          Nâu    RFD - Dẫn động cầu sau       5 chỗ   \n",
       "3               Xanh          Nâu    RFD - Dẫn động cầu sau       5 chỗ   \n",
       "4              Trắng          Nâu    RFD - Dẫn động cầu sau       5 chỗ   \n",
       "...              ...          ...                       ...         ...   \n",
       "18358            Bạc          Kem  FWD - Dẫn động cầu trước       5 chỗ   \n",
       "18359          Trắng          Kem  FWD - Dẫn động cầu trước       5 chỗ   \n",
       "18360          Trắng          Đen  FWD - Dẫn động cầu trước       5 chỗ   \n",
       "18361            Xám          Đen  FWD - Dẫn động cầu trước       5 chỗ   \n",
       "18362             Đỏ          Kem  FWD - Dẫn động cầu trước       5 chỗ   \n",
       "\n",
       "               Giá xe  \n",
       "0           679 Triệu  \n",
       "1           499 Triệu  \n",
       "2      2 Tỷ 229 Triệu  \n",
       "3      1 Tỷ 399 Triệu  \n",
       "4      1 Tỷ 788 Triệu  \n",
       "...               ...  \n",
       "18358       158 Triệu  \n",
       "18359       328 Triệu  \n",
       "18360       592 Triệu  \n",
       "18361       465 Triệu  \n",
       "18362       879 Triệu  \n",
       "\n",
       "[18363 rows x 13 columns]"
      ]
     },
     "execution_count": 4,
     "metadata": {},
     "output_type": "execute_result"
    }
   ],
   "source": [
    "data_origin = pd.read_csv('Data/bonbanh.csv')\n",
    "data_origin\n"
   ]
  },
  {
   "cell_type": "markdown",
   "metadata": {},
   "source": [
    "Change value 'Xe mới' in column 'Số km đã đi' into '0 km'"
   ]
  },
  {
   "cell_type": "code",
   "execution_count": 5,
   "metadata": {},
   "outputs": [],
   "source": [
    "# replace Xe moi at column 'Tình trạng' with 0 Km\n",
    "data_origin['Số km đã đi'] = data_origin['Số km đã đi'].replace('Xe mới', '0 Km')"
   ]
  },
  {
   "cell_type": "code",
   "execution_count": 6,
   "metadata": {},
   "outputs": [],
   "source": [
    "#remove all row that \"Tên xe\" is null\n",
    "data_origin = data_origin[data_origin['Tên xe'].notnull()]\n",
    "#remove all row that \"Tên xe\" = tên xe\n",
    "data_origin = data_origin[data_origin['Tên xe'] != 'Tên xe']"
   ]
  },
  {
   "cell_type": "code",
   "execution_count": 7,
   "metadata": {},
   "outputs": [],
   "source": [
    "#classifing car type\n",
    "#remove the first text from Tên xe column\n",
    "data_origin['Tên xe'] = data_origin['Tên xe'].str.replace('Xe ', '')\n",
    "check =  lambda x : ' '.join(x.split()[:1]) if x.split()[0] != \"Mercedes\" else ' '.join(x.split()[:2])\n",
    "cartype = data_origin['Tên xe'].apply(check)\n",
    "data_origin['Hang xe'] = cartype"
   ]
  },
  {
   "cell_type": "code",
   "execution_count": 8,
   "metadata": {},
   "outputs": [],
   "source": [
    "#classifing car series\n",
    "#remove 2 first words from Tên xe column if the first word is not Merceides else take 1 word\n",
    "data_origin['Tên xe'] = data_origin['Tên xe'].apply(lambda x : ' '.join(x.split()[1:]) if x.split()[0] != \"Mercedes\" else ' '.join(x.split()[2:]))"
   ]
  },
  {
   "cell_type": "code",
   "execution_count": 9,
   "metadata": {},
   "outputs": [],
   "source": [
    "#remove all row that \"Tên xe\" is null or blank\n",
    "data_origin = data_origin[data_origin['Tên xe'].notnull()]\n",
    "data_origin = data_origin[data_origin['Tên xe'] != '']\n"
   ]
  },
  {
   "cell_type": "code",
   "execution_count": 10,
   "metadata": {},
   "outputs": [],
   "source": [
    "classcheck = lambda x: ' '.join(x.split()[:2]) if (x.split()[0] == \"4\" or x.split()[0]==\"Range Rover\" or x.split()[0]==\"Lux\" or x.split()[0]== \"Range\" ) else ' '.join(x.split()[:1])\n",
    "series = data_origin['Tên xe'].apply(classcheck)\n",
    "data_origin['Series'] = series"
   ]
  },
  {
   "cell_type": "code",
   "execution_count": 11,
   "metadata": {},
   "outputs": [],
   "source": [
    "#remove the \"km\" from Số km đã đi column\n",
    "data_origin['Số km đã đi'] = data_origin['Số km đã đi'].str.replace('Km', '')"
   ]
  },
  {
   "cell_type": "code",
   "execution_count": 12,
   "metadata": {},
   "outputs": [],
   "source": [
    "#get Dung tich column from Dong co column\n",
    "data_origin['Dung tich'] = data_origin['Động cơ'].str.extract(r'(\\d\\.\\d)')"
   ]
  },
  {
   "cell_type": "code",
   "execution_count": 13,
   "metadata": {},
   "outputs": [],
   "source": [
    "#get fuel type from Dong co column \n",
    "data_origin['Loại nhiên liệu'] = data_origin['Động cơ'].str.extract(r'(Xăng|Dầu|Hybrid|Điện)')\n",
    "\n",
    "#if Loại nhiên liệu is Dien then Dung tich is 0\n",
    "data_origin['Dung tich'] = data_origin['Dung tich'].fillna(0)"
   ]
  },
  {
   "cell_type": "code",
   "execution_count": 14,
   "metadata": {},
   "outputs": [],
   "source": [
    "#remove \"cho\" from So cho ngoi column\n",
    "data_origin['Số chỗ ngồi'] = data_origin['Số chỗ ngồi'].str.replace('chỗ', '')"
   ]
  },
  {
   "cell_type": "code",
   "execution_count": 15,
   "metadata": {},
   "outputs": [],
   "source": [
    "def convert_price(price):\n",
    "    price = price.split(\" \")\n",
    "    gia = 0\n",
    "    for i in range(len(price)):\n",
    "        if price[i] == \"Tỷ\":   \n",
    "            gia = gia + int(price[i-1])*1000000000\n",
    "        elif price[i] == \"Triệu\":\n",
    "            gia = gia + int(price[i-1])*1000000\n",
    "        elif price[i] == \"Nghìn\":\n",
    "            gia = gia + int(price[i-1])*1000\n",
    "    return gia\n",
    "\n",
    "data_origin['Giá xe'] = data_origin['Giá xe'].apply(convert_price)\n",
    "\n",
    "\n"
   ]
  },
  {
   "cell_type": "code",
   "execution_count": 16,
   "metadata": {},
   "outputs": [],
   "source": [
    "#remove \"Dong co\" column\n",
    "data_origin = data_origin.drop('Động cơ', axis=1)"
   ]
  },
  {
   "cell_type": "code",
   "execution_count": 17,
   "metadata": {},
   "outputs": [],
   "source": [
    "#remove \"Ten xe\" column\n",
    "# data_origin = data_origin.drop('Tên xe', axis=1)"
   ]
  },
  {
   "cell_type": "code",
   "execution_count": 18,
   "metadata": {},
   "outputs": [],
   "source": [
    "# /1000000 from \"Gia xe\" column\n",
    "data_origin['Giá xe'] = data_origin['Giá xe']/1000000"
   ]
  },
  {
   "cell_type": "code",
   "execution_count": 19,
   "metadata": {},
   "outputs": [],
   "source": [
    "#take firt word from \"Dan dong sau\" column\n",
    "data_origin['Dẫn động'] = data_origin['Dẫn động'].apply(lambda x: x.split()[0])"
   ]
  },
  {
   "cell_type": "code",
   "execution_count": 20,
   "metadata": {},
   "outputs": [],
   "source": [
    "def cross_toyota_check(x):\n",
    "    if x[\"Tên xe\"].split().count(\"Cross\") > 0:\n",
    "        return x[\"Series\"]+ \" \" + \"Cross\"\n",
    "    elif x[\"Tên xe\"].split().count(\"Altis\") > 0:\n",
    "        return x[\"Series\"]+ \" \" + \"Altis\"\n",
    "    else:\n",
    "        return x[\"Series\"]"
   ]
  },
  {
   "cell_type": "code",
   "execution_count": 21,
   "metadata": {},
   "outputs": [],
   "source": [
    "data_origin[\"Series\"] = data_origin.apply(cross_toyota_check, axis=1)"
   ]
  },
  {
   "cell_type": "code",
   "execution_count": 22,
   "metadata": {},
   "outputs": [],
   "source": [
    "\n",
    "import numpy as np\n",
    "#remove car that have carseat = 0 or null\n",
    "data_origin = data_origin[data_origin['Số chỗ ngồi'] != 0]\n",
    "data_origin = data_origin[data_origin['Số chỗ ngồi'].notnull()]\n",
    "#change - value to null from \"Hop so\" column\n",
    "data_origin['Hộp số'] = data_origin['Hộp số'].replace('-', np.nan)\n",
    "#remove null value from \"Hop so\" column\n",
    "data_origin = data_origin[data_origin['Hộp số'].notnull()]"
   ]
  },
  {
   "cell_type": "code",
   "execution_count": 23,
   "metadata": {},
   "outputs": [],
   "source": [
    "#remove all \" \" and \"-\" from \"Series\" column\n",
    "data_origin['Series'] = data_origin['Series'].str.replace(' ', '')\n",
    "data_origin['Series'] = data_origin['Series'].str.replace('-', '')\n",
    "#all lowercase\n",
    "data_origin['Series'] = data_origin['Series'].str.lower()"
   ]
  },
  {
   "cell_type": "code",
   "execution_count": 24,
   "metadata": {},
   "outputs": [],
   "source": [
    "#if \"Hang\" = Mercedes then and len(\"Series\") == 1 then \"Series\" += \"class\"\n",
    "def mercedes_class(x):\n",
    "    if x[\"Hang xe\"] == \"Mercedes\":\n",
    "        if x['Series'] == \"c\" or x['Series'] == \"e\" or x['Series'] == \"s\" or x['Series'] == \"g\" or x['Series'] == \"a\" or x['Series'] == \"b\":\n",
    "            return x[\"Series\"] + \"class\"\n",
    "        else:\n",
    "            return x[\"Series\"]\n",
    "    else:\n",
    "        return x[\"Series\"]\n",
    "    \n",
    "data_origin[\"Series\"] = data_origin.apply(mercedes_class, axis=1)"
   ]
  },
  {
   "cell_type": "code",
   "execution_count": 25,
   "metadata": {},
   "outputs": [],
   "source": [
    "datachotot = pd.read_csv('Data/chotot.csv')"
   ]
  },
  {
   "cell_type": "code",
   "execution_count": 26,
   "metadata": {},
   "outputs": [],
   "source": [
    "#remove all row that \"Tên xe\" is null or blank\n",
    "datachotot = datachotot[datachotot['Tiêu đề'].notnull()]"
   ]
  },
  {
   "cell_type": "code",
   "execution_count": 27,
   "metadata": {},
   "outputs": [],
   "source": [
    "#remove all row that \"Hang xe\" is null or blank\n",
    "datachotot = datachotot[datachotot['Hãng'].notnull()]"
   ]
  },
  {
   "cell_type": "code",
   "execution_count": 28,
   "metadata": {},
   "outputs": [],
   "source": [
    "#delete all row that \"Dong xe\" is \"Dong khac\"\n",
    "datachotot = datachotot[datachotot['Dòng xe'] != 'Dòng khác']"
   ]
  },
  {
   "cell_type": "code",
   "execution_count": 29,
   "metadata": {},
   "outputs": [],
   "source": [
    "#remove all \" \" and \"-\" from \"Dong xe\" column \n",
    "datachotot['Dòng xe'] = datachotot['Dòng xe'].str.replace(' ', '')\n",
    "datachotot['Dòng xe'] = datachotot['Dòng xe'].str.replace('-', '')\n",
    "#all lowercase\n",
    "datachotot['Dòng xe'] = datachotot['Dòng xe'].str.lower()\n"
   ]
  },
  {
   "cell_type": "code",
   "execution_count": 30,
   "metadata": {},
   "outputs": [],
   "source": [
    "def find_car(company,series):\n",
    "    return data_origin[(data_origin['Hang xe'] == company) & (data_origin[\"Dòng xe\"] == series)]\n",
    "def cartype(x):\n",
    "    data = find_car(x['Hãng'],x['Dòng xe'])\n",
    "    if data.empty:\n",
    "        return x['Kiểu dáng']\n",
    "    else:\n",
    "        return data['Kiểu dáng'].iloc[0]\n",
    "def carseat(x):\n",
    "    data = find_car(x['Hãng'],x['Dòng xe'])\n",
    "    if data.empty:\n",
    "        return x['Số chỗ']\n",
    "    else:\n",
    "        return data['Số chỗ ngồi'].iloc[0]\n"
   ]
  },
  {
   "cell_type": "code",
   "execution_count": 31,
   "metadata": {},
   "outputs": [],
   "source": [
    "# if \"Dong xe\" == \"Santa fe\" then \"Dong xe\" = \"santafe\" , \"CR V\" = \"CRV\" \n",
    "def replace(x):\n",
    "    if x == \"Santa Fe\":\n",
    "        return \"Santafe\"\n",
    "    elif x == \"CR V\":\n",
    "        return \"CRV\"\n",
    "    else:\n",
    "        return x\n",
    "datachotot['Dòng xe'] = datachotot['Dòng xe'].apply(replace)"
   ]
  },
  {
   "cell_type": "code",
   "execution_count": 32,
   "metadata": {},
   "outputs": [],
   "source": [
    "#find car that have \"Dong xe\" in \"Ten xe\" column\n",
    "def findx_car(Hang, Dongxe):\n",
    "    data = datachotot[datachotot['Dòng xe'].str.contains(Dongxe)]\n",
    "    data = data[data['Hãng'] == Hang]\n",
    "    return data\n",
    "def replace_Dongxe(x):\n",
    "    data = findx_car(x['Hang xe'],x['Series'])\n",
    "    if data.empty:\n",
    "        return x['Series']\n",
    "    else:\n",
    "        return data['Dòng xe'].iloc[0]\n",
    "data_origin['Dòng xe'] = data_origin.apply(replace_Dongxe, axis=1)\n",
    "    "
   ]
  },
  {
   "cell_type": "code",
   "execution_count": 33,
   "metadata": {},
   "outputs": [],
   "source": [
    "#drop all data that have car seat = 0\n",
    "data_origin = data_origin[data_origin['Số chỗ ngồi'] != 0]"
   ]
  },
  {
   "cell_type": "code",
   "execution_count": 34,
   "metadata": {},
   "outputs": [],
   "source": [
    "# datachotot[\"Kiểu Dáng\"] = datachotot.apply(cartype,axis=1)\n",
    "# datachotot[\"Số Chỗ\"] = datachotot.apply(carseat,axis=1)\n"
   ]
  },
  {
   "cell_type": "code",
   "execution_count": 35,
   "metadata": {},
   "outputs": [],
   "source": [
    "#remove \"New_Series\" column and \"Series\" column\n",
    "data_origin = data_origin.drop('Series', axis=1)"
   ]
  },
  {
   "cell_type": "code",
   "execution_count": 39,
   "metadata": {},
   "outputs": [
    {
     "ename": "TypeError",
     "evalue": "data type 'abca' not understood",
     "output_type": "error",
     "traceback": [
      "\u001b[1;31m---------------------------------------------------------------------------\u001b[0m",
      "\u001b[1;31mTypeError\u001b[0m                                 Traceback (most recent call last)",
      "\u001b[1;32mc:\\Users\\admin\\Project-Intro-to-Data-Science\\preprocessing.ipynb Cell 37\u001b[0m line \u001b[0;36m2\n\u001b[0;32m      <a href='vscode-notebook-cell:/c%3A/Users/admin/Project-Intro-to-Data-Science/preprocessing.ipynb#Y131sZmlsZQ%3D%3D?line=0'>1</a>\u001b[0m \u001b[39m#change data of Tieu de to string\u001b[39;00m\n\u001b[1;32m----> <a href='vscode-notebook-cell:/c%3A/Users/admin/Project-Intro-to-Data-Science/preprocessing.ipynb#Y131sZmlsZQ%3D%3D?line=1'>2</a>\u001b[0m datachotot[\u001b[39m'\u001b[39m\u001b[39mTiêu đề\u001b[39m\u001b[39m'\u001b[39m] \u001b[39m=\u001b[39m datachotot[\u001b[39m'\u001b[39;49m\u001b[39mTiêu đề\u001b[39;49m\u001b[39m'\u001b[39;49m]\u001b[39m.\u001b[39;49mastype(\u001b[39mstr\u001b[39;49m)\n",
      "File \u001b[1;32m~\\AppData\\Roaming\\Python\\Python310\\site-packages\\pandas\\core\\generic.py:6324\u001b[0m, in \u001b[0;36mNDFrame.astype\u001b[1;34m(self, dtype, copy, errors)\u001b[0m\n\u001b[0;32m   6317\u001b[0m     results \u001b[39m=\u001b[39m [\n\u001b[0;32m   6318\u001b[0m         \u001b[39mself\u001b[39m\u001b[39m.\u001b[39miloc[:, i]\u001b[39m.\u001b[39mastype(dtype, copy\u001b[39m=\u001b[39mcopy)\n\u001b[0;32m   6319\u001b[0m         \u001b[39mfor\u001b[39;00m i \u001b[39min\u001b[39;00m \u001b[39mrange\u001b[39m(\u001b[39mlen\u001b[39m(\u001b[39mself\u001b[39m\u001b[39m.\u001b[39mcolumns))\n\u001b[0;32m   6320\u001b[0m     ]\n\u001b[0;32m   6322\u001b[0m \u001b[39melse\u001b[39;00m:\n\u001b[0;32m   6323\u001b[0m     \u001b[39m# else, only a single dtype is given\u001b[39;00m\n\u001b[1;32m-> 6324\u001b[0m     new_data \u001b[39m=\u001b[39m \u001b[39mself\u001b[39;49m\u001b[39m.\u001b[39;49m_mgr\u001b[39m.\u001b[39;49mastype(dtype\u001b[39m=\u001b[39;49mdtype, copy\u001b[39m=\u001b[39;49mcopy, errors\u001b[39m=\u001b[39;49merrors)\n\u001b[0;32m   6325\u001b[0m     \u001b[39mreturn\u001b[39;00m \u001b[39mself\u001b[39m\u001b[39m.\u001b[39m_constructor(new_data)\u001b[39m.\u001b[39m__finalize__(\u001b[39mself\u001b[39m, method\u001b[39m=\u001b[39m\u001b[39m\"\u001b[39m\u001b[39mastype\u001b[39m\u001b[39m\"\u001b[39m)\n\u001b[0;32m   6327\u001b[0m \u001b[39m# GH 33113: handle empty frame or series\u001b[39;00m\n",
      "File \u001b[1;32m~\\AppData\\Roaming\\Python\\Python310\\site-packages\\pandas\\core\\internals\\managers.py:451\u001b[0m, in \u001b[0;36mBaseBlockManager.astype\u001b[1;34m(self, dtype, copy, errors)\u001b[0m\n\u001b[0;32m    448\u001b[0m \u001b[39melif\u001b[39;00m using_copy_on_write():\n\u001b[0;32m    449\u001b[0m     copy \u001b[39m=\u001b[39m \u001b[39mFalse\u001b[39;00m\n\u001b[1;32m--> 451\u001b[0m \u001b[39mreturn\u001b[39;00m \u001b[39mself\u001b[39;49m\u001b[39m.\u001b[39;49mapply(\n\u001b[0;32m    452\u001b[0m     \u001b[39m\"\u001b[39;49m\u001b[39mastype\u001b[39;49m\u001b[39m\"\u001b[39;49m,\n\u001b[0;32m    453\u001b[0m     dtype\u001b[39m=\u001b[39;49mdtype,\n\u001b[0;32m    454\u001b[0m     copy\u001b[39m=\u001b[39;49mcopy,\n\u001b[0;32m    455\u001b[0m     errors\u001b[39m=\u001b[39;49merrors,\n\u001b[0;32m    456\u001b[0m     using_cow\u001b[39m=\u001b[39;49musing_copy_on_write(),\n\u001b[0;32m    457\u001b[0m )\n",
      "File \u001b[1;32m~\\AppData\\Roaming\\Python\\Python310\\site-packages\\pandas\\core\\internals\\managers.py:352\u001b[0m, in \u001b[0;36mBaseBlockManager.apply\u001b[1;34m(self, f, align_keys, **kwargs)\u001b[0m\n\u001b[0;32m    350\u001b[0m         applied \u001b[39m=\u001b[39m b\u001b[39m.\u001b[39mapply(f, \u001b[39m*\u001b[39m\u001b[39m*\u001b[39mkwargs)\n\u001b[0;32m    351\u001b[0m     \u001b[39melse\u001b[39;00m:\n\u001b[1;32m--> 352\u001b[0m         applied \u001b[39m=\u001b[39m \u001b[39mgetattr\u001b[39m(b, f)(\u001b[39m*\u001b[39m\u001b[39m*\u001b[39mkwargs)\n\u001b[0;32m    353\u001b[0m     result_blocks \u001b[39m=\u001b[39m extend_blocks(applied, result_blocks)\n\u001b[0;32m    355\u001b[0m out \u001b[39m=\u001b[39m \u001b[39mtype\u001b[39m(\u001b[39mself\u001b[39m)\u001b[39m.\u001b[39mfrom_blocks(result_blocks, \u001b[39mself\u001b[39m\u001b[39m.\u001b[39maxes)\n",
      "File \u001b[1;32m~\\AppData\\Roaming\\Python\\Python310\\site-packages\\pandas\\core\\internals\\blocks.py:511\u001b[0m, in \u001b[0;36mBlock.astype\u001b[1;34m(self, dtype, copy, errors, using_cow)\u001b[0m\n\u001b[0;32m    491\u001b[0m \u001b[39m\u001b[39m\u001b[39m\"\"\"\u001b[39;00m\n\u001b[0;32m    492\u001b[0m \u001b[39mCoerce to the new dtype.\u001b[39;00m\n\u001b[0;32m    493\u001b[0m \n\u001b[1;32m   (...)\u001b[0m\n\u001b[0;32m    507\u001b[0m \u001b[39mBlock\u001b[39;00m\n\u001b[0;32m    508\u001b[0m \u001b[39m\"\"\"\u001b[39;00m\n\u001b[0;32m    509\u001b[0m values \u001b[39m=\u001b[39m \u001b[39mself\u001b[39m\u001b[39m.\u001b[39mvalues\n\u001b[1;32m--> 511\u001b[0m new_values \u001b[39m=\u001b[39m astype_array_safe(values, dtype, copy\u001b[39m=\u001b[39;49mcopy, errors\u001b[39m=\u001b[39;49merrors)\n\u001b[0;32m    513\u001b[0m new_values \u001b[39m=\u001b[39m maybe_coerce_values(new_values)\n\u001b[0;32m    515\u001b[0m refs \u001b[39m=\u001b[39m \u001b[39mNone\u001b[39;00m\n",
      "File \u001b[1;32m~\\AppData\\Roaming\\Python\\Python310\\site-packages\\pandas\\core\\dtypes\\astype.py:236\u001b[0m, in \u001b[0;36mastype_array_safe\u001b[1;34m(values, dtype, copy, errors)\u001b[0m\n\u001b[0;32m    230\u001b[0m     msg \u001b[39m=\u001b[39m (\n\u001b[0;32m    231\u001b[0m         \u001b[39mf\u001b[39m\u001b[39m\"\u001b[39m\u001b[39mExpected an instance of \u001b[39m\u001b[39m{\u001b[39;00mdtype\u001b[39m.\u001b[39m\u001b[39m__name__\u001b[39m\u001b[39m}\u001b[39;00m\u001b[39m, \u001b[39m\u001b[39m\"\u001b[39m\n\u001b[0;32m    232\u001b[0m         \u001b[39m\"\u001b[39m\u001b[39mbut got the class instead. Try instantiating \u001b[39m\u001b[39m'\u001b[39m\u001b[39mdtype\u001b[39m\u001b[39m'\u001b[39m\u001b[39m.\u001b[39m\u001b[39m\"\u001b[39m\n\u001b[0;32m    233\u001b[0m     )\n\u001b[0;32m    234\u001b[0m     \u001b[39mraise\u001b[39;00m \u001b[39mTypeError\u001b[39;00m(msg)\n\u001b[1;32m--> 236\u001b[0m dtype \u001b[39m=\u001b[39m pandas_dtype(dtype)\n\u001b[0;32m    237\u001b[0m \u001b[39mif\u001b[39;00m \u001b[39misinstance\u001b[39m(dtype, PandasDtype):\n\u001b[0;32m    238\u001b[0m     \u001b[39m# Ensure we don't end up with a PandasArray\u001b[39;00m\n\u001b[0;32m    239\u001b[0m     dtype \u001b[39m=\u001b[39m dtype\u001b[39m.\u001b[39mnumpy_dtype\n",
      "File \u001b[1;32m~\\AppData\\Roaming\\Python\\Python310\\site-packages\\pandas\\core\\dtypes\\common.py:1691\u001b[0m, in \u001b[0;36mpandas_dtype\u001b[1;34m(dtype)\u001b[0m\n\u001b[0;32m   1686\u001b[0m     \u001b[39mwith\u001b[39;00m warnings\u001b[39m.\u001b[39mcatch_warnings():\n\u001b[0;32m   1687\u001b[0m         \u001b[39m# GH#51523 - Series.astype(np.integer) doesn't show\u001b[39;00m\n\u001b[0;32m   1688\u001b[0m         \u001b[39m# numpy deprication warning of np.integer\u001b[39;00m\n\u001b[0;32m   1689\u001b[0m         \u001b[39m# Hence enabling DeprecationWarning\u001b[39;00m\n\u001b[0;32m   1690\u001b[0m         warnings\u001b[39m.\u001b[39msimplefilter(\u001b[39m\"\u001b[39m\u001b[39malways\u001b[39m\u001b[39m\"\u001b[39m, \u001b[39mDeprecationWarning\u001b[39;00m)\n\u001b[1;32m-> 1691\u001b[0m         npdtype \u001b[39m=\u001b[39m np\u001b[39m.\u001b[39;49mdtype(dtype)\n\u001b[0;32m   1692\u001b[0m \u001b[39mexcept\u001b[39;00m \u001b[39mSyntaxError\u001b[39;00m \u001b[39mas\u001b[39;00m err:\n\u001b[0;32m   1693\u001b[0m     \u001b[39m# np.dtype uses `eval` which can raise SyntaxError\u001b[39;00m\n\u001b[0;32m   1694\u001b[0m     \u001b[39mraise\u001b[39;00m \u001b[39mTypeError\u001b[39;00m(\u001b[39mf\u001b[39m\u001b[39m\"\u001b[39m\u001b[39mdata type \u001b[39m\u001b[39m'\u001b[39m\u001b[39m{\u001b[39;00mdtype\u001b[39m}\u001b[39;00m\u001b[39m'\u001b[39m\u001b[39m not understood\u001b[39m\u001b[39m\"\u001b[39m) \u001b[39mfrom\u001b[39;00m \u001b[39merr\u001b[39;00m\n",
      "\u001b[1;31mTypeError\u001b[0m: data type 'abca' not understood"
     ]
    }
   ],
   "source": [
    "#change data of Tieu de to string\n",
    "datachotot['Tiêu đề'] = datachotot['Tiêu đề'].astype(str)"
   ]
  },
  {
   "cell_type": "code",
   "execution_count": 36,
   "metadata": {},
   "outputs": [
    {
     "ename": "IndexError",
     "evalue": "string index out of range",
     "output_type": "error",
     "traceback": [
      "\u001b[1;31m---------------------------------------------------------------------------\u001b[0m",
      "\u001b[1;31mIndexError\u001b[0m                                Traceback (most recent call last)",
      "\u001b[1;32mc:\\Users\\admin\\Project-Intro-to-Data-Science\\preprocessing.ipynb Cell 37\u001b[0m line \u001b[0;36m7\n\u001b[0;32m      <a href='vscode-notebook-cell:/c%3A/Users/admin/Project-Intro-to-Data-Science/preprocessing.ipynb#Y125sZmlsZQ%3D%3D?line=4'>5</a>\u001b[0m     \u001b[39melse\u001b[39;00m:\n\u001b[0;32m      <a href='vscode-notebook-cell:/c%3A/Users/admin/Project-Intro-to-Data-Science/preprocessing.ipynb#Y125sZmlsZQ%3D%3D?line=5'>6</a>\u001b[0m         \u001b[39mreturn\u001b[39;00m x\n\u001b[1;32m----> <a href='vscode-notebook-cell:/c%3A/Users/admin/Project-Intro-to-Data-Science/preprocessing.ipynb#Y125sZmlsZQ%3D%3D?line=6'>7</a>\u001b[0m datachotot[\u001b[39m'\u001b[39m\u001b[39mDung tich moi \u001b[39m\u001b[39m'\u001b[39m] \u001b[39m=\u001b[39m datachotot[\u001b[39m'\u001b[39;49m\u001b[39mTiêu đề\u001b[39;49m\u001b[39m'\u001b[39;49m]\u001b[39m.\u001b[39;49mapply(find_dot)\n",
      "File \u001b[1;32m~\\AppData\\Roaming\\Python\\Python310\\site-packages\\pandas\\core\\series.py:4630\u001b[0m, in \u001b[0;36mSeries.apply\u001b[1;34m(self, func, convert_dtype, args, **kwargs)\u001b[0m\n\u001b[0;32m   4520\u001b[0m \u001b[39mdef\u001b[39;00m \u001b[39mapply\u001b[39m(\n\u001b[0;32m   4521\u001b[0m     \u001b[39mself\u001b[39m,\n\u001b[0;32m   4522\u001b[0m     func: AggFuncType,\n\u001b[1;32m   (...)\u001b[0m\n\u001b[0;32m   4525\u001b[0m     \u001b[39m*\u001b[39m\u001b[39m*\u001b[39mkwargs,\n\u001b[0;32m   4526\u001b[0m ) \u001b[39m-\u001b[39m\u001b[39m>\u001b[39m DataFrame \u001b[39m|\u001b[39m Series:\n\u001b[0;32m   4527\u001b[0m \u001b[39m    \u001b[39m\u001b[39m\"\"\"\u001b[39;00m\n\u001b[0;32m   4528\u001b[0m \u001b[39m    Invoke function on values of Series.\u001b[39;00m\n\u001b[0;32m   4529\u001b[0m \n\u001b[1;32m   (...)\u001b[0m\n\u001b[0;32m   4628\u001b[0m \u001b[39m    dtype: float64\u001b[39;00m\n\u001b[0;32m   4629\u001b[0m \u001b[39m    \"\"\"\u001b[39;00m\n\u001b[1;32m-> 4630\u001b[0m     \u001b[39mreturn\u001b[39;00m SeriesApply(\u001b[39mself\u001b[39;49m, func, convert_dtype, args, kwargs)\u001b[39m.\u001b[39;49mapply()\n",
      "File \u001b[1;32m~\\AppData\\Roaming\\Python\\Python310\\site-packages\\pandas\\core\\apply.py:1025\u001b[0m, in \u001b[0;36mSeriesApply.apply\u001b[1;34m(self)\u001b[0m\n\u001b[0;32m   1022\u001b[0m     \u001b[39mreturn\u001b[39;00m \u001b[39mself\u001b[39m\u001b[39m.\u001b[39mapply_str()\n\u001b[0;32m   1024\u001b[0m \u001b[39m# self.f is Callable\u001b[39;00m\n\u001b[1;32m-> 1025\u001b[0m \u001b[39mreturn\u001b[39;00m \u001b[39mself\u001b[39;49m\u001b[39m.\u001b[39;49mapply_standard()\n",
      "File \u001b[1;32m~\\AppData\\Roaming\\Python\\Python310\\site-packages\\pandas\\core\\apply.py:1076\u001b[0m, in \u001b[0;36mSeriesApply.apply_standard\u001b[1;34m(self)\u001b[0m\n\u001b[0;32m   1074\u001b[0m     \u001b[39melse\u001b[39;00m:\n\u001b[0;32m   1075\u001b[0m         values \u001b[39m=\u001b[39m obj\u001b[39m.\u001b[39mastype(\u001b[39mobject\u001b[39m)\u001b[39m.\u001b[39m_values\n\u001b[1;32m-> 1076\u001b[0m         mapped \u001b[39m=\u001b[39m lib\u001b[39m.\u001b[39;49mmap_infer(\n\u001b[0;32m   1077\u001b[0m             values,\n\u001b[0;32m   1078\u001b[0m             f,\n\u001b[0;32m   1079\u001b[0m             convert\u001b[39m=\u001b[39;49m\u001b[39mself\u001b[39;49m\u001b[39m.\u001b[39;49mconvert_dtype,\n\u001b[0;32m   1080\u001b[0m         )\n\u001b[0;32m   1082\u001b[0m \u001b[39mif\u001b[39;00m \u001b[39mlen\u001b[39m(mapped) \u001b[39mand\u001b[39;00m \u001b[39misinstance\u001b[39m(mapped[\u001b[39m0\u001b[39m], ABCSeries):\n\u001b[0;32m   1083\u001b[0m     \u001b[39m# GH#43986 Need to do list(mapped) in order to get treated as nested\u001b[39;00m\n\u001b[0;32m   1084\u001b[0m     \u001b[39m#  See also GH#25959 regarding EA support\u001b[39;00m\n\u001b[0;32m   1085\u001b[0m     \u001b[39mreturn\u001b[39;00m obj\u001b[39m.\u001b[39m_constructor_expanddim(\u001b[39mlist\u001b[39m(mapped), index\u001b[39m=\u001b[39mobj\u001b[39m.\u001b[39mindex)\n",
      "File \u001b[1;32m~\\AppData\\Roaming\\Python\\Python310\\site-packages\\pandas\\_libs\\lib.pyx:2834\u001b[0m, in \u001b[0;36mpandas._libs.lib.map_infer\u001b[1;34m()\u001b[0m\n",
      "\u001b[1;32mc:\\Users\\admin\\Project-Intro-to-Data-Science\\preprocessing.ipynb Cell 37\u001b[0m line \u001b[0;36m4\n\u001b[0;32m      <a href='vscode-notebook-cell:/c%3A/Users/admin/Project-Intro-to-Data-Science/preprocessing.ipynb#Y125sZmlsZQ%3D%3D?line=1'>2</a>\u001b[0m \u001b[39mdef\u001b[39;00m \u001b[39mfind_dot\u001b[39m(x):\n\u001b[0;32m      <a href='vscode-notebook-cell:/c%3A/Users/admin/Project-Intro-to-Data-Science/preprocessing.ipynb#Y125sZmlsZQ%3D%3D?line=2'>3</a>\u001b[0m     \u001b[39mif\u001b[39;00m x\u001b[39m.\u001b[39mfind(\u001b[39m\"\u001b[39m\u001b[39m.\u001b[39m\u001b[39m\"\u001b[39m) \u001b[39m!=\u001b[39m \u001b[39m-\u001b[39m\u001b[39m1\u001b[39m:\n\u001b[1;32m----> <a href='vscode-notebook-cell:/c%3A/Users/admin/Project-Intro-to-Data-Science/preprocessing.ipynb#Y125sZmlsZQ%3D%3D?line=3'>4</a>\u001b[0m         \u001b[39mreturn\u001b[39;00m x[x\u001b[39m.\u001b[39mfind(\u001b[39m\"\u001b[39m\u001b[39m.\u001b[39m\u001b[39m\"\u001b[39m)\u001b[39m-\u001b[39m\u001b[39m1\u001b[39m] \u001b[39m+\u001b[39m\u001b[39m\"\u001b[39m\u001b[39m.\u001b[39m\u001b[39m\"\u001b[39m\u001b[39m+\u001b[39m x[x\u001b[39m.\u001b[39;49mfind(\u001b[39m\"\u001b[39;49m\u001b[39m.\u001b[39;49m\u001b[39m\"\u001b[39;49m) \u001b[39m+\u001b[39;49m \u001b[39m1\u001b[39;49m]\n\u001b[0;32m      <a href='vscode-notebook-cell:/c%3A/Users/admin/Project-Intro-to-Data-Science/preprocessing.ipynb#Y125sZmlsZQ%3D%3D?line=4'>5</a>\u001b[0m     \u001b[39melse\u001b[39;00m:\n\u001b[0;32m      <a href='vscode-notebook-cell:/c%3A/Users/admin/Project-Intro-to-Data-Science/preprocessing.ipynb#Y125sZmlsZQ%3D%3D?line=5'>6</a>\u001b[0m         \u001b[39mreturn\u001b[39;00m x\n",
      "\u001b[1;31mIndexError\u001b[0m: string index out of range"
     ]
    }
   ],
   "source": [
    "#find \".\" in \"Ten xe\" column and take the element before \".\" and after \".\"\n",
    "def find_dot(x):\n",
    "    if x.find(\".\") != -1:\n",
    "        return x[x.find(\".\")-1] +\".\"+ x[x.find(\".\") + 1]\n",
    "    else:\n",
    "        return x\n",
    "datachotot['Dung tich moi '] = datachotot['Tiêu đề'].apply(find_dot)"
   ]
  },
  {
   "cell_type": "code",
   "execution_count": null,
   "metadata": {},
   "outputs": [
    {
     "data": {
      "text/plain": [
       "-1"
      ]
     },
     "execution_count": 2,
     "metadata": {},
     "output_type": "execute_result"
    }
   ],
   "source": [
    "str = \"abca\"\n",
    "str.find(\".\")\n"
   ]
  }
 ],
 "metadata": {
  "kernelspec": {
   "display_name": "Python 3",
   "language": "python",
   "name": "python3"
  },
  "language_info": {
   "codemirror_mode": {
    "name": "ipython",
    "version": 3
   },
   "file_extension": ".py",
   "mimetype": "text/x-python",
   "name": "python",
   "nbconvert_exporter": "python",
   "pygments_lexer": "ipython3",
   "version": "3.10.4"
  }
 },
 "nbformat": 4,
 "nbformat_minor": 2
}
