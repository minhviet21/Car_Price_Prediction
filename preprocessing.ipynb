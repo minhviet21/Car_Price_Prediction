{
 "cells": [
  {
   "cell_type": "markdown",
   "metadata": {},
   "source": [
    "Import libraries"
   ]
  },
  {
   "cell_type": "code",
   "execution_count": 1,
   "metadata": {},
   "outputs": [],
   "source": [
    "import pandas as pd"
   ]
  },
  {
   "cell_type": "markdown",
   "metadata": {},
   "source": [
    "Vizualize the data"
   ]
  },
  {
   "cell_type": "code",
   "execution_count": 2,
   "metadata": {},
   "outputs": [
    {
     "data": {
      "text/html": [
       "<div>\n",
       "<style scoped>\n",
       "    .dataframe tbody tr th:only-of-type {\n",
       "        vertical-align: middle;\n",
       "    }\n",
       "\n",
       "    .dataframe tbody tr th {\n",
       "        vertical-align: top;\n",
       "    }\n",
       "\n",
       "    .dataframe thead th {\n",
       "        text-align: right;\n",
       "    }\n",
       "</style>\n",
       "<table border=\"1\" class=\"dataframe\">\n",
       "  <thead>\n",
       "    <tr style=\"text-align: right;\">\n",
       "      <th></th>\n",
       "      <th>Tên xe</th>\n",
       "      <th>Năm sản xuất</th>\n",
       "      <th>Tình trạng</th>\n",
       "      <th>Số km đã đi</th>\n",
       "      <th>Xuất xứ</th>\n",
       "      <th>Kiểu dáng</th>\n",
       "      <th>Hộp số</th>\n",
       "      <th>Động cơ</th>\n",
       "      <th>Màu ngoại thất</th>\n",
       "      <th>Màu nội thất</th>\n",
       "      <th>Dẫn động sau</th>\n",
       "      <th>Số chỗ ngồi</th>\n",
       "      <th>Giá xe</th>\n",
       "    </tr>\n",
       "  </thead>\n",
       "  <tbody>\n",
       "    <tr>\n",
       "      <th>0</th>\n",
       "      <td>Xe Toyota Corolla Cross 1.8V</td>\n",
       "      <td>2022</td>\n",
       "      <td>Xe đã dùng</td>\n",
       "      <td>3,000 Km</td>\n",
       "      <td>Nhập khẩu</td>\n",
       "      <td>SUV</td>\n",
       "      <td>Số tự động</td>\n",
       "      <td>Xăng  1.8 L</td>\n",
       "      <td>Trắng</td>\n",
       "      <td>Nâu</td>\n",
       "      <td>FWD - Dẫn động cầu trước</td>\n",
       "      <td>5 chỗ</td>\n",
       "      <td>810 Triệu</td>\n",
       "    </tr>\n",
       "    <tr>\n",
       "      <th>1</th>\n",
       "      <td>Xe BMW 5 Series 530i Luxury Line</td>\n",
       "      <td>2019</td>\n",
       "      <td>Xe đã dùng</td>\n",
       "      <td>37,000 Km</td>\n",
       "      <td>Nhập khẩu</td>\n",
       "      <td>Sedan</td>\n",
       "      <td>Số tự động</td>\n",
       "      <td>Xăng  2.0 L</td>\n",
       "      <td>Xanh</td>\n",
       "      <td>Nhiều màu</td>\n",
       "      <td>RFD - Dẫn động cầu sau</td>\n",
       "      <td>5 chỗ</td>\n",
       "      <td>1 Tỷ 480 Triệu</td>\n",
       "    </tr>\n",
       "    <tr>\n",
       "      <th>2</th>\n",
       "      <td>Xe Mercedes Benz C class C200 Avantgarde Plus</td>\n",
       "      <td>2022</td>\n",
       "      <td>Xe đã dùng</td>\n",
       "      <td>6,500 Km</td>\n",
       "      <td>Lắp ráp trong nước</td>\n",
       "      <td>Sedan</td>\n",
       "      <td>Số tự động</td>\n",
       "      <td>Xăng  1.5 L</td>\n",
       "      <td>Trắng</td>\n",
       "      <td>Đen</td>\n",
       "      <td>RFD - Dẫn động cầu sau</td>\n",
       "      <td>5 chỗ</td>\n",
       "      <td>1 Tỷ 590 Triệu</td>\n",
       "    </tr>\n",
       "    <tr>\n",
       "      <th>3</th>\n",
       "      <td>Xe Mazda 3 1.5 AT</td>\n",
       "      <td>2016</td>\n",
       "      <td>Xe đã dùng</td>\n",
       "      <td>67,000 Km</td>\n",
       "      <td>Lắp ráp trong nước</td>\n",
       "      <td>Sedan</td>\n",
       "      <td>Số tự động</td>\n",
       "      <td>Xăng  1.5 L</td>\n",
       "      <td>Đỏ</td>\n",
       "      <td>Đen</td>\n",
       "      <td>FWD - Dẫn động cầu trước</td>\n",
       "      <td>5 chỗ</td>\n",
       "      <td>412 Triệu</td>\n",
       "    </tr>\n",
       "    <tr>\n",
       "      <th>4</th>\n",
       "      <td>Xe Lexus ES 250</td>\n",
       "      <td>2022</td>\n",
       "      <td>Xe đã dùng</td>\n",
       "      <td>5,000 Km</td>\n",
       "      <td>Nhập khẩu</td>\n",
       "      <td>Sedan</td>\n",
       "      <td>Số tự động</td>\n",
       "      <td>Xăng  2.5 L</td>\n",
       "      <td>Xanh</td>\n",
       "      <td>Nâu</td>\n",
       "      <td>FWD - Dẫn động cầu trước</td>\n",
       "      <td>5 chỗ</td>\n",
       "      <td>2 Tỷ 300 Triệu</td>\n",
       "    </tr>\n",
       "    <tr>\n",
       "      <th>...</th>\n",
       "      <td>...</td>\n",
       "      <td>...</td>\n",
       "      <td>...</td>\n",
       "      <td>...</td>\n",
       "      <td>...</td>\n",
       "      <td>...</td>\n",
       "      <td>...</td>\n",
       "      <td>...</td>\n",
       "      <td>...</td>\n",
       "      <td>...</td>\n",
       "      <td>...</td>\n",
       "      <td>...</td>\n",
       "      <td>...</td>\n",
       "    </tr>\n",
       "    <tr>\n",
       "      <th>495</th>\n",
       "      <td>Xe Mercedes Benz GLE Class GLE 43 AMG 4Matic C...</td>\n",
       "      <td>2018</td>\n",
       "      <td>Xe đã dùng</td>\n",
       "      <td>23,000 Km</td>\n",
       "      <td>Nhập khẩu</td>\n",
       "      <td>Coupe</td>\n",
       "      <td>Số tự động</td>\n",
       "      <td>Xăng  3.0 L</td>\n",
       "      <td>Đỏ</td>\n",
       "      <td>Đen</td>\n",
       "      <td>AWD - 4 bánh toàn thời gian</td>\n",
       "      <td>5 chỗ</td>\n",
       "      <td>2 Tỷ 399 Triệu</td>\n",
       "    </tr>\n",
       "    <tr>\n",
       "      <th>496</th>\n",
       "      <td>Xe Lexus RX 300</td>\n",
       "      <td>2022</td>\n",
       "      <td>Xe đã dùng</td>\n",
       "      <td>9,000 Km</td>\n",
       "      <td>Nhập khẩu</td>\n",
       "      <td>SUV</td>\n",
       "      <td>Số tự động</td>\n",
       "      <td>Xăng  2.0 L</td>\n",
       "      <td>Trắng</td>\n",
       "      <td>Nâu</td>\n",
       "      <td>AWD - 4 bánh toàn thời gian</td>\n",
       "      <td>5 chỗ</td>\n",
       "      <td>3 Tỷ 180 Triệu</td>\n",
       "    </tr>\n",
       "    <tr>\n",
       "      <th>497</th>\n",
       "      <td>Xe Toyota Fortuner 2.7V 4x2 AT</td>\n",
       "      <td>2019</td>\n",
       "      <td>Xe đã dùng</td>\n",
       "      <td>77,000 Km</td>\n",
       "      <td>Nhập khẩu</td>\n",
       "      <td>SUV</td>\n",
       "      <td>Số tự động</td>\n",
       "      <td>Xăng  2.7 L</td>\n",
       "      <td>Đen</td>\n",
       "      <td>Nâu</td>\n",
       "      <td>RFD - Dẫn động cầu sau</td>\n",
       "      <td>7 chỗ</td>\n",
       "      <td>775 Triệu</td>\n",
       "    </tr>\n",
       "    <tr>\n",
       "      <th>498</th>\n",
       "      <td>Xe Mercedes Benz C class C300 AMG</td>\n",
       "      <td>2022</td>\n",
       "      <td>Xe đã dùng</td>\n",
       "      <td>7,500 Km</td>\n",
       "      <td>Lắp ráp trong nước</td>\n",
       "      <td>Sedan</td>\n",
       "      <td>Số tự động</td>\n",
       "      <td>Xăng  2.0 L</td>\n",
       "      <td>Trắng</td>\n",
       "      <td>Nhiều màu</td>\n",
       "      <td>RFD - Dẫn động cầu sau</td>\n",
       "      <td>5 chỗ</td>\n",
       "      <td>1 Tỷ 830 Triệu</td>\n",
       "    </tr>\n",
       "    <tr>\n",
       "      <th>499</th>\n",
       "      <td>Xe Mitsubishi Xpander 1.5 AT</td>\n",
       "      <td>2023</td>\n",
       "      <td>Xe mới</td>\n",
       "      <td>Xe mới</td>\n",
       "      <td>Nhập khẩu</td>\n",
       "      <td>SUV</td>\n",
       "      <td>Số tự động</td>\n",
       "      <td>Xăng  1.5 L</td>\n",
       "      <td>Trắng</td>\n",
       "      <td>Ghi</td>\n",
       "      <td>FWD - Dẫn động cầu trước</td>\n",
       "      <td>7 chỗ</td>\n",
       "      <td>539 Triệu</td>\n",
       "    </tr>\n",
       "  </tbody>\n",
       "</table>\n",
       "<p>500 rows × 13 columns</p>\n",
       "</div>"
      ],
      "text/plain": [
       "                                                Tên xe  Năm sản xuất  \\\n",
       "0                         Xe Toyota Corolla Cross 1.8V          2022   \n",
       "1                     Xe BMW 5 Series 530i Luxury Line          2019   \n",
       "2        Xe Mercedes Benz C class C200 Avantgarde Plus          2022   \n",
       "3                                    Xe Mazda 3 1.5 AT          2016   \n",
       "4                                      Xe Lexus ES 250          2022   \n",
       "..                                                 ...           ...   \n",
       "495  Xe Mercedes Benz GLE Class GLE 43 AMG 4Matic C...          2018   \n",
       "496                                    Xe Lexus RX 300          2022   \n",
       "497                     Xe Toyota Fortuner 2.7V 4x2 AT          2019   \n",
       "498                  Xe Mercedes Benz C class C300 AMG          2022   \n",
       "499                       Xe Mitsubishi Xpander 1.5 AT          2023   \n",
       "\n",
       "     Tình trạng Số km đã đi             Xuất xứ Kiểu dáng      Hộp số  \\\n",
       "0    Xe đã dùng    3,000 Km           Nhập khẩu       SUV  Số tự động   \n",
       "1    Xe đã dùng   37,000 Km           Nhập khẩu     Sedan  Số tự động   \n",
       "2    Xe đã dùng    6,500 Km  Lắp ráp trong nước     Sedan  Số tự động   \n",
       "3    Xe đã dùng   67,000 Km  Lắp ráp trong nước     Sedan  Số tự động   \n",
       "4    Xe đã dùng    5,000 Km           Nhập khẩu     Sedan  Số tự động   \n",
       "..          ...         ...                 ...       ...         ...   \n",
       "495  Xe đã dùng   23,000 Km           Nhập khẩu     Coupe  Số tự động   \n",
       "496  Xe đã dùng    9,000 Km           Nhập khẩu       SUV  Số tự động   \n",
       "497  Xe đã dùng   77,000 Km           Nhập khẩu       SUV  Số tự động   \n",
       "498  Xe đã dùng    7,500 Km  Lắp ráp trong nước     Sedan  Số tự động   \n",
       "499      Xe mới      Xe mới           Nhập khẩu       SUV  Số tự động   \n",
       "\n",
       "         Động cơ Màu ngoại thất Màu nội thất                 Dẫn động sau  \\\n",
       "0    Xăng  1.8 L          Trắng          Nâu     FWD - Dẫn động cầu trước   \n",
       "1    Xăng  2.0 L           Xanh    Nhiều màu       RFD - Dẫn động cầu sau   \n",
       "2    Xăng  1.5 L          Trắng          Đen       RFD - Dẫn động cầu sau   \n",
       "3    Xăng  1.5 L             Đỏ          Đen     FWD - Dẫn động cầu trước   \n",
       "4    Xăng  2.5 L           Xanh          Nâu     FWD - Dẫn động cầu trước   \n",
       "..           ...            ...          ...                          ...   \n",
       "495  Xăng  3.0 L             Đỏ          Đen  AWD - 4 bánh toàn thời gian   \n",
       "496  Xăng  2.0 L          Trắng          Nâu  AWD - 4 bánh toàn thời gian   \n",
       "497  Xăng  2.7 L            Đen          Nâu       RFD - Dẫn động cầu sau   \n",
       "498  Xăng  2.0 L          Trắng    Nhiều màu       RFD - Dẫn động cầu sau   \n",
       "499  Xăng  1.5 L          Trắng          Ghi     FWD - Dẫn động cầu trước   \n",
       "\n",
       "    Số chỗ ngồi          Giá xe  \n",
       "0         5 chỗ       810 Triệu  \n",
       "1         5 chỗ  1 Tỷ 480 Triệu  \n",
       "2         5 chỗ  1 Tỷ 590 Triệu  \n",
       "3         5 chỗ       412 Triệu  \n",
       "4         5 chỗ  2 Tỷ 300 Triệu  \n",
       "..          ...             ...  \n",
       "495       5 chỗ  2 Tỷ 399 Triệu  \n",
       "496       5 chỗ  3 Tỷ 180 Triệu  \n",
       "497       7 chỗ       775 Triệu  \n",
       "498       5 chỗ  1 Tỷ 830 Triệu  \n",
       "499       7 chỗ       539 Triệu  \n",
       "\n",
       "[500 rows x 13 columns]"
      ]
     },
     "execution_count": 2,
     "metadata": {},
     "output_type": "execute_result"
    }
   ],
   "source": [
    "data_origin = pd.read_csv('Data/bonbanh.csv')\n",
    "data_origin\n"
   ]
  },
  {
   "cell_type": "markdown",
   "metadata": {},
   "source": [
    "Change value 'Xe mới' in column 'Số km đã đi' into '0 km'"
   ]
  },
  {
   "cell_type": "code",
   "execution_count": 3,
   "metadata": {},
   "outputs": [],
   "source": [
    "# replace Xe moi at column 'Tình trạng' with 0 Km\n",
    "data_origin['Số km đã đi'] = data_origin['Số km đã đi'].replace('Xe mới', '0 Km')"
   ]
  },
  {
   "cell_type": "code",
   "execution_count": 4,
   "metadata": {},
   "outputs": [],
   "source": [
    "#classifing car type\n",
    "#remove the first text from Tên xe column\n",
    "data_origin['Tên xe'] = data_origin['Tên xe'].str.replace('Xe ', '')\n",
    "check =  lambda x : ' '.join(x.split()[:1]) if x.split()[0] != \"Mercedes\" else ' '.join(x.split()[:2])\n",
    "cartype = data_origin['Tên xe'].apply(check)\n",
    "data_origin['Hang xe'] = cartype"
   ]
  },
  {
   "cell_type": "code",
   "execution_count": 5,
   "metadata": {},
   "outputs": [],
   "source": [
    "#classifing car series\n",
    "#remove 2 first words from Tên xe column if the first word is not Merceides else take 1 word\n",
    "data_origin['Tên xe'] = data_origin['Tên xe'].apply(lambda x : ' '.join(x.split()[1:]) if x.split()[0] != \"Mercedes\" else ' '.join(x.split()[2:]))"
   ]
  },
  {
   "cell_type": "code",
   "execution_count": 6,
   "metadata": {},
   "outputs": [],
   "source": [
    "classcheck = lambda x: ' '.join(x.split()[:2]) if (x.split()[0] == \"4\" or x.split()[0]==\"Range Rover\" or x.split()[0]==\"Lux\" or x.split()[0]== \"Range\" ) else ' '.join(x.split()[:1])\n",
    "series = data_origin['Tên xe'].apply(classcheck)\n",
    "data_origin['Series'] = series"
   ]
  },
  {
   "cell_type": "code",
   "execution_count": 7,
   "metadata": {},
   "outputs": [],
   "source": [
    "#remove the \"km\" from Số km đã đi column\n",
    "data_origin['Số km đã đi'] = data_origin['Số km đã đi'].str.replace('Km', '')"
   ]
  },
  {
   "cell_type": "code",
   "execution_count": 8,
   "metadata": {},
   "outputs": [],
   "source": [
    "#get Dung tich column from Dong co column\n",
    "data_origin['Dung tich'] = data_origin['Động cơ'].str.extract(r'(\\d\\.\\d)')"
   ]
  },
  {
   "cell_type": "code",
   "execution_count": 9,
   "metadata": {},
   "outputs": [],
   "source": [
    "#get fuel type from Dong co column \n",
    "data_origin['Loại nhiên liệu'] = data_origin['Động cơ'].str.extract(r'(Xăng|Dầu|Hybrid|Điện)')\n",
    "\n",
    "#if Loại nhiên liệu is Dien then Dung tich is 0\n",
    "data_origin['Dung tich'] = data_origin['Dung tich'].fillna(0)"
   ]
  },
  {
   "cell_type": "code",
   "execution_count": 10,
   "metadata": {},
   "outputs": [],
   "source": [
    "#remove \"cho\" from So cho ngoi column\n",
    "data_origin['Số chỗ ngồi'] = data_origin['Số chỗ ngồi'].str.replace('chỗ', '')"
   ]
  },
  {
   "cell_type": "code",
   "execution_count": 15,
   "metadata": {},
   "outputs": [],
   "source": [
    "def convert_price(price):\n",
    "    price = price.split(\" \")\n",
    "    gia = 0\n",
    "    for i in range(len(price)):\n",
    "        if price[i] == \"Tỷ\":   \n",
    "            gia = gia + int(price[i-1])*1000000000\n",
    "        elif price[i] == \"Triệu\":\n",
    "            gia = gia + int(price[i-1])*1000000\n",
    "        elif price[i] == \"Nghìn\":\n",
    "            gia = gia + int(price[i-1])*1000\n",
    "    return gia\n",
    "\n",
    "data_origin['Giá xe'] = data_origin['Giá xe'].apply(convert_price)\n",
    "\n",
    "\n"
   ]
  },
  {
   "cell_type": "code",
   "execution_count": 16,
   "metadata": {},
   "outputs": [],
   "source": [
    "#remove \"Dong co\" column\n",
    "data_origin = data_origin.drop('Động cơ', axis=1)"
   ]
  },
  {
   "cell_type": "code",
   "execution_count": 17,
   "metadata": {},
   "outputs": [],
   "source": [
    "#remove \"Ten xe\" column\n",
    "data_origin = data_origin.drop('Tên xe', axis=1)"
   ]
  },
  {
   "cell_type": "code",
   "execution_count": 19,
   "metadata": {},
   "outputs": [],
   "source": [
    "# /1000000 from \"Gia xe\" column\n",
    "data_origin['Giá xe'] = data_origin['Giá xe']/1000000"
   ]
  },
  {
   "cell_type": "code",
   "execution_count": 20,
   "metadata": {},
   "outputs": [
    {
     "name": "stderr",
     "output_type": "stream",
     "text": [
      "C:\\Users\\admin\\AppData\\Local\\Temp\\ipykernel_25324\\1199556841.py:7: UserWarning: \n",
      "\n",
      "`distplot` is a deprecated function and will be removed in seaborn v0.14.0.\n",
      "\n",
      "Please adapt your code to use either `displot` (a figure-level function with\n",
      "similar flexibility) or `histplot` (an axes-level function for histograms).\n",
      "\n",
      "For a guide to updating your code to use the new functions, please see\n",
      "https://gist.github.com/mwaskom/de44147ed2974457ad6372750bbe5751\n",
      "\n",
      "  sns.distplot(data_origin['Giá xe'], bins=50)\n"
     ]
    },
    {
     "data": {
      "text/plain": [
       "<Axes: title={'center': 'Car price distribution'}, xlabel='Giá xe', ylabel='Density'>"
      ]
     },
     "execution_count": 20,
     "metadata": {},
     "output_type": "execute_result"
    },
    {
     "data": {
      "image/png": "[encoded data removed]",
      "text/plain": [
       "<Figure size 1000x600 with 1 Axes>"
      ]
     },
     "metadata": {},
     "output_type": "display_data"
    }
   ],
   "source": [
    "#plot car price distribution\n",
    "import matplotlib.pyplot as plt\n",
    "import seaborn as sns\n",
    "sns.set_style('whitegrid')\n",
    "plt.figure(figsize=(10,6))\n",
    "plt.title('Car price distribution')\n",
    "sns.distplot(data_origin['Giá xe'], bins=50)"
   ]
  },
  {
   "cell_type": "code",
   "execution_count": 21,
   "metadata": {},
   "outputs": [],
   "source": [
    "#take firt word from \"Dan dong sau\" column\n",
    "data_origin['Dẫn động sau'] = data_origin['Dẫn động sau'].apply(lambda x: x.split()[0])"
   ]
  }
 ],
 "metadata": {
  "kernelspec": {
   "display_name": "Python 3",
   "language": "python",
   "name": "python3"
  },
  "language_info": {
   "codemirror_mode": {
    "name": "ipython",
    "version": 3
   },
   "file_extension": ".py",
   "mimetype": "text/x-python",
   "name": "python",
   "nbconvert_exporter": "python",
   "pygments_lexer": "ipython3",
   "version": "3.10.4"
  }
 },
 "nbformat": 4,
 "nbformat_minor": 2
}
