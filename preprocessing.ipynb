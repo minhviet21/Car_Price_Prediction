{
 "cells": [
  {
   "cell_type": "markdown",
   "metadata": {},
   "source": [
    "Import libraries"
   ]
  },
  {
   "cell_type": "code",
   "execution_count": 1,
   "metadata": {},
   "outputs": [],
   "source": [
    "import pandas as pd"
   ]
  },
  {
   "cell_type": "markdown",
   "metadata": {},
   "source": [
    "Vizualize the data"
   ]
  },
  {
   "cell_type": "code",
   "execution_count": 2,
   "metadata": {},
   "outputs": [
    {
     "data": {
      "text/html": [
       "<div>\n",
       "<style scoped>\n",
       "    .dataframe tbody tr th:only-of-type {\n",
       "        vertical-align: middle;\n",
       "    }\n",
       "\n",
       "    .dataframe tbody tr th {\n",
       "        vertical-align: top;\n",
       "    }\n",
       "\n",
       "    .dataframe thead th {\n",
       "        text-align: right;\n",
       "    }\n",
       "</style>\n",
       "<table border=\"1\" class=\"dataframe\">\n",
       "  <thead>\n",
       "    <tr style=\"text-align: right;\">\n",
       "      <th></th>\n",
       "      <th>Tên xe</th>\n",
       "      <th>Năm sản xuất</th>\n",
       "      <th>Tình trạng</th>\n",
       "      <th>Số km đã đi</th>\n",
       "      <th>Xuất xứ</th>\n",
       "      <th>Kiểu dáng</th>\n",
       "      <th>Hộp số</th>\n",
       "      <th>Động cơ</th>\n",
       "      <th>Màu ngoại thất</th>\n",
       "      <th>Màu nội thất</th>\n",
       "      <th>Dẫn động sau</th>\n",
       "      <th>Số chỗ ngồi</th>\n",
       "      <th>Giá xe</th>\n",
       "    </tr>\n",
       "  </thead>\n",
       "  <tbody>\n",
       "    <tr>\n",
       "      <th>0</th>\n",
       "      <td>Xe Peugeot 2008 Active 1.2 AT</td>\n",
       "      <td>2022</td>\n",
       "      <td>Xe đã dùng</td>\n",
       "      <td>30,000 Km</td>\n",
       "      <td>Lắp ráp trong nước</td>\n",
       "      <td>Crossover</td>\n",
       "      <td>Số tự động</td>\n",
       "      <td>Xăng  1.2 L</td>\n",
       "      <td>Đỏ</td>\n",
       "      <td>Đen</td>\n",
       "      <td>FWD - Dẫn động cầu trước</td>\n",
       "      <td>5 chỗ</td>\n",
       "      <td>679 Triệu</td>\n",
       "    </tr>\n",
       "    <tr>\n",
       "      <th>1</th>\n",
       "      <td>Xe Mercedes Benz C class C300 AMG</td>\n",
       "      <td>2014</td>\n",
       "      <td>Xe đã dùng</td>\n",
       "      <td>90,000 Km</td>\n",
       "      <td>Lắp ráp trong nước</td>\n",
       "      <td>Sedan</td>\n",
       "      <td>Số tự động</td>\n",
       "      <td>Xăng  3.0 L</td>\n",
       "      <td>Trắng</td>\n",
       "      <td>Đen</td>\n",
       "      <td>RFD - Dẫn động cầu sau</td>\n",
       "      <td>5 chỗ</td>\n",
       "      <td>499 Triệu</td>\n",
       "    </tr>\n",
       "    <tr>\n",
       "      <th>2</th>\n",
       "      <td>Xe Mercedes Benz E class E200 Exclusive</td>\n",
       "      <td>2022</td>\n",
       "      <td>Xe đã dùng</td>\n",
       "      <td>500 Km</td>\n",
       "      <td>Lắp ráp trong nước</td>\n",
       "      <td>Sedan</td>\n",
       "      <td>Số tự động</td>\n",
       "      <td>Xăng  2.0 L</td>\n",
       "      <td>Đen</td>\n",
       "      <td>Nâu</td>\n",
       "      <td>RFD - Dẫn động cầu sau</td>\n",
       "      <td>5 chỗ</td>\n",
       "      <td>2 Tỷ 229 Triệu</td>\n",
       "    </tr>\n",
       "    <tr>\n",
       "      <th>3</th>\n",
       "      <td>Xe Mercedes Benz C class C200 Avantgarde</td>\n",
       "      <td>2021</td>\n",
       "      <td>Xe đã dùng</td>\n",
       "      <td>80 Km</td>\n",
       "      <td>Lắp ráp trong nước</td>\n",
       "      <td>Sedan</td>\n",
       "      <td>Số tự động</td>\n",
       "      <td>Xăng  1.5 L</td>\n",
       "      <td>Xanh</td>\n",
       "      <td>Nâu</td>\n",
       "      <td>RFD - Dẫn động cầu sau</td>\n",
       "      <td>5 chỗ</td>\n",
       "      <td>1 Tỷ 399 Triệu</td>\n",
       "    </tr>\n",
       "    <tr>\n",
       "      <th>4</th>\n",
       "      <td>Xe Mercedes Benz E class E200 Exclusive</td>\n",
       "      <td>2022</td>\n",
       "      <td>Xe đã dùng</td>\n",
       "      <td>8,888 Km</td>\n",
       "      <td>Lắp ráp trong nước</td>\n",
       "      <td>Sedan</td>\n",
       "      <td>Số tự động</td>\n",
       "      <td>Xăng  2.0 L</td>\n",
       "      <td>Trắng</td>\n",
       "      <td>Nâu</td>\n",
       "      <td>RFD - Dẫn động cầu sau</td>\n",
       "      <td>5 chỗ</td>\n",
       "      <td>1 Tỷ 788 Triệu</td>\n",
       "    </tr>\n",
       "    <tr>\n",
       "      <th>...</th>\n",
       "      <td>...</td>\n",
       "      <td>...</td>\n",
       "      <td>...</td>\n",
       "      <td>...</td>\n",
       "      <td>...</td>\n",
       "      <td>...</td>\n",
       "      <td>...</td>\n",
       "      <td>...</td>\n",
       "      <td>...</td>\n",
       "      <td>...</td>\n",
       "      <td>...</td>\n",
       "      <td>...</td>\n",
       "      <td>...</td>\n",
       "    </tr>\n",
       "    <tr>\n",
       "      <th>18397</th>\n",
       "      <td>Xe Kia Morning LX 1.0 AT</td>\n",
       "      <td>2009</td>\n",
       "      <td>Xe đã dùng</td>\n",
       "      <td>1,111 Km</td>\n",
       "      <td>Nhập khẩu</td>\n",
       "      <td>Hatchback</td>\n",
       "      <td>Số tự động</td>\n",
       "      <td>Xăng  1.0 L</td>\n",
       "      <td>Bạc</td>\n",
       "      <td>Kem</td>\n",
       "      <td>FWD - Dẫn động cầu trước</td>\n",
       "      <td>5 chỗ</td>\n",
       "      <td>158 Triệu</td>\n",
       "    </tr>\n",
       "    <tr>\n",
       "      <th>18398</th>\n",
       "      <td>Xe Hyundai Accent 1.4 MT</td>\n",
       "      <td>2018</td>\n",
       "      <td>Xe đã dùng</td>\n",
       "      <td>80,000 Km</td>\n",
       "      <td>Lắp ráp trong nước</td>\n",
       "      <td>Sedan</td>\n",
       "      <td>Số tay</td>\n",
       "      <td>Xăng  1.4 L</td>\n",
       "      <td>Trắng</td>\n",
       "      <td>Kem</td>\n",
       "      <td>FWD - Dẫn động cầu trước</td>\n",
       "      <td>5 chỗ</td>\n",
       "      <td>328 Triệu</td>\n",
       "    </tr>\n",
       "    <tr>\n",
       "      <th>18399</th>\n",
       "      <td>Xe Toyota Vios G 1.5 CVT</td>\n",
       "      <td>2023</td>\n",
       "      <td>Xe mới</td>\n",
       "      <td>Xe mới</td>\n",
       "      <td>Lắp ráp trong nước</td>\n",
       "      <td>Sedan</td>\n",
       "      <td>Số tự động</td>\n",
       "      <td>Xăng  1.5 L</td>\n",
       "      <td>Trắng</td>\n",
       "      <td>Đen</td>\n",
       "      <td>FWD - Dẫn động cầu trước</td>\n",
       "      <td>5 chỗ</td>\n",
       "      <td>592 Triệu</td>\n",
       "    </tr>\n",
       "    <tr>\n",
       "      <th>18400</th>\n",
       "      <td>Xe Mitsubishi Attrage 1.2 CVT</td>\n",
       "      <td>2023</td>\n",
       "      <td>Xe mới</td>\n",
       "      <td>Xe mới</td>\n",
       "      <td>Nhập khẩu</td>\n",
       "      <td>Sedan</td>\n",
       "      <td>Số tự động</td>\n",
       "      <td>Xăng  1.2 L</td>\n",
       "      <td>Xám</td>\n",
       "      <td>Đen</td>\n",
       "      <td>FWD - Dẫn động cầu trước</td>\n",
       "      <td>5 chỗ</td>\n",
       "      <td>465 Triệu</td>\n",
       "    </tr>\n",
       "    <tr>\n",
       "      <th>18401</th>\n",
       "      <td>Xe Toyota Camry 2.5Q</td>\n",
       "      <td>2020</td>\n",
       "      <td>Xe đã dùng</td>\n",
       "      <td>68,000 Km</td>\n",
       "      <td>Nhập khẩu</td>\n",
       "      <td>Sedan</td>\n",
       "      <td>Số tự động</td>\n",
       "      <td>Xăng  2.5 L</td>\n",
       "      <td>Đỏ</td>\n",
       "      <td>Kem</td>\n",
       "      <td>FWD - Dẫn động cầu trước</td>\n",
       "      <td>5 chỗ</td>\n",
       "      <td>879 Triệu</td>\n",
       "    </tr>\n",
       "  </tbody>\n",
       "</table>\n",
       "<p>18402 rows × 13 columns</p>\n",
       "</div>"
      ],
      "text/plain": [
       "                                         Tên xe Năm sản xuất  Tình trạng  \\\n",
       "0                 Xe Peugeot 2008 Active 1.2 AT         2022  Xe đã dùng   \n",
       "1             Xe Mercedes Benz C class C300 AMG         2014  Xe đã dùng   \n",
       "2       Xe Mercedes Benz E class E200 Exclusive         2022  Xe đã dùng   \n",
       "3      Xe Mercedes Benz C class C200 Avantgarde         2021  Xe đã dùng   \n",
       "4       Xe Mercedes Benz E class E200 Exclusive         2022  Xe đã dùng   \n",
       "...                                         ...          ...         ...   \n",
       "18397                  Xe Kia Morning LX 1.0 AT         2009  Xe đã dùng   \n",
       "18398                  Xe Hyundai Accent 1.4 MT         2018  Xe đã dùng   \n",
       "18399                  Xe Toyota Vios G 1.5 CVT         2023      Xe mới   \n",
       "18400             Xe Mitsubishi Attrage 1.2 CVT         2023      Xe mới   \n",
       "18401                      Xe Toyota Camry 2.5Q         2020  Xe đã dùng   \n",
       "\n",
       "      Số km đã đi             Xuất xứ  Kiểu dáng      Hộp số      Động cơ  \\\n",
       "0       30,000 Km  Lắp ráp trong nước  Crossover  Số tự động  Xăng  1.2 L   \n",
       "1       90,000 Km  Lắp ráp trong nước      Sedan  Số tự động  Xăng  3.0 L   \n",
       "2          500 Km  Lắp ráp trong nước      Sedan  Số tự động  Xăng  2.0 L   \n",
       "3           80 Km  Lắp ráp trong nước      Sedan  Số tự động  Xăng  1.5 L   \n",
       "4        8,888 Km  Lắp ráp trong nước      Sedan  Số tự động  Xăng  2.0 L   \n",
       "...           ...                 ...        ...         ...          ...   \n",
       "18397    1,111 Km           Nhập khẩu  Hatchback  Số tự động  Xăng  1.0 L   \n",
       "18398   80,000 Km  Lắp ráp trong nước      Sedan      Số tay  Xăng  1.4 L   \n",
       "18399      Xe mới  Lắp ráp trong nước      Sedan  Số tự động  Xăng  1.5 L   \n",
       "18400      Xe mới           Nhập khẩu      Sedan  Số tự động  Xăng  1.2 L   \n",
       "18401   68,000 Km           Nhập khẩu      Sedan  Số tự động  Xăng  2.5 L   \n",
       "\n",
       "      Màu ngoại thất Màu nội thất              Dẫn động sau Số chỗ ngồi  \\\n",
       "0                 Đỏ          Đen  FWD - Dẫn động cầu trước       5 chỗ   \n",
       "1              Trắng          Đen    RFD - Dẫn động cầu sau       5 chỗ   \n",
       "2                Đen          Nâu    RFD - Dẫn động cầu sau       5 chỗ   \n",
       "3               Xanh          Nâu    RFD - Dẫn động cầu sau       5 chỗ   \n",
       "4              Trắng          Nâu    RFD - Dẫn động cầu sau       5 chỗ   \n",
       "...              ...          ...                       ...         ...   \n",
       "18397            Bạc          Kem  FWD - Dẫn động cầu trước       5 chỗ   \n",
       "18398          Trắng          Kem  FWD - Dẫn động cầu trước       5 chỗ   \n",
       "18399          Trắng          Đen  FWD - Dẫn động cầu trước       5 chỗ   \n",
       "18400            Xám          Đen  FWD - Dẫn động cầu trước       5 chỗ   \n",
       "18401             Đỏ          Kem  FWD - Dẫn động cầu trước       5 chỗ   \n",
       "\n",
       "               Giá xe  \n",
       "0           679 Triệu  \n",
       "1           499 Triệu  \n",
       "2      2 Tỷ 229 Triệu  \n",
       "3      1 Tỷ 399 Triệu  \n",
       "4      1 Tỷ 788 Triệu  \n",
       "...               ...  \n",
       "18397       158 Triệu  \n",
       "18398       328 Triệu  \n",
       "18399       592 Triệu  \n",
       "18400       465 Triệu  \n",
       "18401       879 Triệu  \n",
       "\n",
       "[18402 rows x 13 columns]"
      ]
     },
     "execution_count": 2,
     "metadata": {},
     "output_type": "execute_result"
    }
   ],
   "source": [
    "data_origin = pd.read_csv('Data/bonbanh.csv')\n",
    "data_origin\n"
   ]
  },
  {
   "cell_type": "markdown",
   "metadata": {},
   "source": [
    "Change value 'Xe mới' in column 'Số km đã đi' into '0 km'"
   ]
  },
  {
   "cell_type": "code",
   "execution_count": 3,
   "metadata": {},
   "outputs": [],
   "source": [
    "# replace Xe moi at column 'Tình trạng' with 0 Km\n",
    "data_origin['Số km đã đi'] = data_origin['Số km đã đi'].replace('Xe mới', '0 Km')"
   ]
  },
  {
   "cell_type": "code",
   "execution_count": 4,
   "metadata": {},
   "outputs": [],
   "source": [
    "#remove all row that \"Tên xe\" is null\n",
    "data_origin = data_origin[data_origin['Tên xe'].notnull()]\n",
    "#remove all row that \"Tên xe\" = tên xe\n",
    "data_origin = data_origin[data_origin['Tên xe'] != 'Tên xe']"
   ]
  },
  {
   "cell_type": "code",
   "execution_count": 5,
   "metadata": {},
   "outputs": [],
   "source": [
    "#classifing car type\n",
    "#remove the first text from Tên xe column\n",
    "data_origin['Tên xe'] = data_origin['Tên xe'].str.replace('Xe ', '')\n",
    "check =  lambda x : ' '.join(x.split()[:1]) if x.split()[0] != \"Mercedes\" else ' '.join(x.split()[:2])\n",
    "cartype = data_origin['Tên xe'].apply(check)\n",
    "data_origin['Hang xe'] = cartype"
   ]
  },
  {
   "cell_type": "code",
   "execution_count": 6,
   "metadata": {},
   "outputs": [],
   "source": [
    "#classifing car series\n",
    "#remove 2 first words from Tên xe column if the first word is not Merceides else take 1 word\n",
    "data_origin['Tên xe'] = data_origin['Tên xe'].apply(lambda x : ' '.join(x.split()[1:]) if x.split()[0] != \"Mercedes\" else ' '.join(x.split()[2:]))"
   ]
  },
  {
   "cell_type": "code",
   "execution_count": 7,
   "metadata": {},
   "outputs": [],
   "source": [
    "#remove all row that \"Tên xe\" is null or blank\n",
    "data_origin = data_origin[data_origin['Tên xe'].notnull()]\n",
    "data_origin = data_origin[data_origin['Tên xe'] != '']\n"
   ]
  },
  {
   "cell_type": "code",
   "execution_count": 8,
   "metadata": {},
   "outputs": [],
   "source": [
    "classcheck = lambda x: ' '.join(x.split()[:2]) if (x.split()[0] == \"4\" or x.split()[0]==\"Range Rover\" or x.split()[0]==\"Lux\" or x.split()[0]== \"Range\" ) else ' '.join(x.split()[:1])\n",
    "series = data_origin['Tên xe'].apply(classcheck)\n",
    "data_origin['Series'] = series"
   ]
  },
  {
   "cell_type": "code",
   "execution_count": 9,
   "metadata": {},
   "outputs": [],
   "source": [
    "#remove the \"km\" from Số km đã đi column\n",
    "data_origin['Số km đã đi'] = data_origin['Số km đã đi'].str.replace('Km', '')"
   ]
  },
  {
   "cell_type": "code",
   "execution_count": 10,
   "metadata": {},
   "outputs": [],
   "source": [
    "#get Dung tich column from Dong co column\n",
    "data_origin['Dung tich'] = data_origin['Động cơ'].str.extract(r'(\\d\\.\\d)')"
   ]
  },
  {
   "cell_type": "code",
   "execution_count": 11,
   "metadata": {},
   "outputs": [],
   "source": [
    "#get fuel type from Dong co column \n",
    "data_origin['Loại nhiên liệu'] = data_origin['Động cơ'].str.extract(r'(Xăng|Dầu|Hybrid|Điện)')\n",
    "\n",
    "#if Loại nhiên liệu is Dien then Dung tich is 0\n",
    "data_origin['Dung tich'] = data_origin['Dung tich'].fillna(0)"
   ]
  },
  {
   "cell_type": "code",
   "execution_count": 12,
   "metadata": {},
   "outputs": [],
   "source": [
    "#remove \"cho\" from So cho ngoi column\n",
    "data_origin['Số chỗ ngồi'] = data_origin['Số chỗ ngồi'].str.replace('chỗ', '')"
   ]
  },
  {
   "cell_type": "code",
   "execution_count": 13,
   "metadata": {},
   "outputs": [],
   "source": [
    "def convert_price(price):\n",
    "    price = price.split(\" \")\n",
    "    gia = 0\n",
    "    for i in range(len(price)):\n",
    "        if price[i] == \"Tỷ\":   \n",
    "            gia = gia + int(price[i-1])*1000000000\n",
    "        elif price[i] == \"Triệu\":\n",
    "            gia = gia + int(price[i-1])*1000000\n",
    "        elif price[i] == \"Nghìn\":\n",
    "            gia = gia + int(price[i-1])*1000\n",
    "    return gia\n",
    "\n",
    "data_origin['Giá xe'] = data_origin['Giá xe'].apply(convert_price)\n",
    "\n",
    "\n"
   ]
  },
  {
   "cell_type": "code",
   "execution_count": 14,
   "metadata": {},
   "outputs": [],
   "source": [
    "#remove \"Dong co\" column\n",
    "data_origin = data_origin.drop('Động cơ', axis=1)"
   ]
  },
  {
   "cell_type": "code",
   "execution_count": 15,
   "metadata": {},
   "outputs": [],
   "source": [
    "#remove \"Ten xe\" column\n",
    "# data_origin = data_origin.drop('Tên xe', axis=1)"
   ]
  },
  {
   "cell_type": "code",
   "execution_count": 16,
   "metadata": {},
   "outputs": [],
   "source": [
    "# /1000000 from \"Gia xe\" column\n",
    "data_origin['Giá xe'] = data_origin['Giá xe']/1000000"
   ]
  },
  {
   "cell_type": "code",
   "execution_count": 17,
   "metadata": {},
   "outputs": [],
   "source": [
    "#take firt word from \"Dan dong sau\" column\n",
    "data_origin['Dẫn động sau'] = data_origin['Dẫn động sau'].apply(lambda x: x.split()[0])"
   ]
  },
  {
   "cell_type": "code",
   "execution_count": 18,
   "metadata": {},
   "outputs": [],
   "source": [
    "#get the data that have same \"Năm sản xuất\", same \"Hang xe\" , same \"Series\" and diff \"Dung tich\"\n"
   ]
  },
  {
   "cell_type": "code",
   "execution_count": 19,
   "metadata": {},
   "outputs": [],
   "source": [
    "datachotot = pd.read_csv('Data/chotot.csv')"
   ]
  },
  {
   "cell_type": "code",
   "execution_count": 20,
   "metadata": {},
   "outputs": [],
   "source": [
    "def find_car(company,series,year):\n",
    "    return data_origin[(data_origin['Hang xe'] == company) & (data_origin['Series'] == series) & (data_origin['Năm sản xuất'] == year)]\n",
    "def find_car2(company,series,cartype):\n",
    "    return data_origin[(data_origin['Hang xe'] == company) & (data_origin['Series'] == series) & (data_origin['Kiểu dáng'] == cartype)]\n",
    "def cartype(x):\n",
    "    data = find_car(x['company'],x['type'],x['mfdate'])\n",
    "    if data.empty:\n",
    "        return 'Khác'\n",
    "    else:\n",
    "        return data['Kiểu dáng'].iloc[0]\n",
    "def carseat(x):\n",
    "    data = find_car2(x['company'],x['type'],x['cartype'])\n",
    "    if data.empty:\n",
    "        return None\n",
    "    else:\n",
    "        return data['Số chỗ ngồi'].iloc[0]\n"
   ]
  },
  {
   "cell_type": "code",
   "execution_count": 21,
   "metadata": {},
   "outputs": [],
   "source": [
    "datachotot[\"cartype\"] = datachotot.apply(cartype,axis=1)\n",
    "datachotot[\"carseat\"] = datachotot.apply(carseat,axis=1)"
   ]
  },
  {
   "cell_type": "code",
   "execution_count": 22,
   "metadata": {},
   "outputs": [],
   "source": [
    "#car that have \"Hang xe\" = \"Misubishi\"\n",
    "tester = data_origin[data_origin['Hang xe'] == 'Mitsubishi']\n"
   ]
  }
 ],
 "metadata": {
  "kernelspec": {
   "display_name": "Python 3",
   "language": "python",
   "name": "python3"
  },
  "language_info": {
   "codemirror_mode": {
    "name": "ipython",
    "version": 3
   },
   "file_extension": ".py",
   "mimetype": "text/x-python",
   "name": "python",
   "nbconvert_exporter": "python",
   "pygments_lexer": "ipython3",
   "version": "3.10.4"
  }
 },
 "nbformat": 4,
 "nbformat_minor": 2
}
