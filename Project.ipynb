{
 "cells": [
  {
   "cell_type": "markdown",
   "metadata": {},
   "source": [
    "## Import libraries"
   ]
  },
  {
   "cell_type": "code",
   "execution_count": null,
   "metadata": {},
   "outputs": [],
   "source": [
    "import pandas as pd\n",
    "import matplotlib.pyplot as plt\n",
    "import seaborn as sns"
   ]
  },
  {
   "cell_type": "markdown",
   "metadata": {},
   "source": [
    "## Read data from file csv"
   ]
  },
  {
   "cell_type": "code",
   "execution_count": null,
   "metadata": {},
   "outputs": [],
   "source": [
    "data = pd.read_csv('Data/BonBanh.csv')\n",
    "data"
   ]
  },
  {
   "cell_type": "markdown",
   "metadata": {},
   "source": [
    "## Preprocessing"
   ]
  },
  {
   "cell_type": "markdown",
   "metadata": {},
   "source": [
    "#### Change value *Xe mới* in into *0 km* and remove *km* in other values in **Số km đã đi** column"
   ]
  },
  {
   "cell_type": "code",
   "execution_count": null,
   "metadata": {},
   "outputs": [],
   "source": [
    "data['Số km đã đi'] = data['Số km đã đi'].replace('Xe mới', '0 Km')\n",
    "data['Số km đã đi'] = data['Số km đã đi'].str.replace('Km', '')\n",
    "def change_to_int(so_km):\n",
    "    km = 0\n",
    "    so_km = [int(x) for x in so_km.split(',')]\n",
    "    n = len(so_km)\n",
    "    for i in range(n):\n",
    "        km += 1000**(n-i-1)*so_km[i] \n",
    "    return km\n",
    "data['Số km đã đi'] = data['Số km đã đi'].apply(change_to_int)\n",
    "data['Số km đã đi'] = data['Số km đã đi'].astype('int64')"
   ]
  },
  {
   "cell_type": "markdown",
   "metadata": {},
   "source": [
    "#### Split **Tên xe** column into **Hãng xe** column and **Dòng xe** column"
   ]
  },
  {
   "cell_type": "code",
   "execution_count": null,
   "metadata": {},
   "outputs": [],
   "source": [
    "data['Tên xe'] = data['Tên xe'].str.replace('Xe ', '')\n",
    "check =  lambda x : ' '.join(x.split()[:1]) if x.split()[0] != \"Mercedes\" else ' '.join(x.split()[:2])\n",
    "cartype = data['Tên xe'].apply(check)\n",
    "data['Hãng xe'] = cartype"
   ]
  },
  {
   "cell_type": "code",
   "execution_count": null,
   "metadata": {},
   "outputs": [],
   "source": [
    "#remove 2 first words from Tên xe column if the first word is not Merceides else take 1 word\n",
    "data['Tên xe'] = data['Tên xe'].apply(lambda x : ' '.join(x.split()[1:]) if x.split()[0] != \"Mercedes\" else ' '.join(x.split()[2:]))"
   ]
  },
  {
   "cell_type": "code",
   "execution_count": null,
   "metadata": {},
   "outputs": [],
   "source": [
    "classcheck = lambda x: ' ' if x == '' else (' '.join(x.split()[:2]) if (x.split()[0] == \"4\" or x.split()[0]==\"Range Rover\" or x.split()[0]==\"Lux\" or x.split()[0]== \"Range\" ) else ' '.join(x.split()[:1]))\n",
    "series = data['Tên xe'].apply(classcheck)\n",
    "data['Series'] = series"
   ]
  },
  {
   "cell_type": "code",
   "execution_count": null,
   "metadata": {},
   "outputs": [],
   "source": [
    "data = data.drop('Tên xe', axis=1)"
   ]
  },
  {
   "cell_type": "markdown",
   "metadata": {},
   "source": [
    "#### Split **Động cơ** column into **Dung tích** column and **Loại nhiên liệu** column"
   ]
  },
  {
   "cell_type": "code",
   "execution_count": null,
   "metadata": {},
   "outputs": [],
   "source": [
    "data['Dung tich'] = data['Động cơ'].str.extract(r'(\\d\\.\\d)')\n",
    "data['Loại nhiên liệu'] = data['Động cơ'].str.extract(r'(Xăng|Dầu|Hybrid|Điện)')"
   ]
  },
  {
   "cell_type": "code",
   "execution_count": null,
   "metadata": {},
   "outputs": [],
   "source": [
    "data['Dung tich'] = data['Dung tich'].fillna(0)\n",
    "data = data.drop('Động cơ', axis=1)"
   ]
  },
  {
   "cell_type": "markdown",
   "metadata": {},
   "source": [
    "#### Remove *Chỗ* in all values in **Số chỗ ngồi** column"
   ]
  },
  {
   "cell_type": "code",
   "execution_count": null,
   "metadata": {},
   "outputs": [],
   "source": [
    "#remove \"cho\" from So cho ngoi column\n",
    "data['Số chỗ ngồi'] = data['Số chỗ ngồi'].str.replace('chỗ', '')\n",
    "data['Số chỗ ngồi'] = data['Số chỗ ngồi'].astype('int64')"
   ]
  },
  {
   "cell_type": "markdown",
   "metadata": {},
   "source": [
    "#### Take the first word in all value **Dẫn động**"
   ]
  },
  {
   "cell_type": "code",
   "execution_count": null,
   "metadata": {},
   "outputs": [],
   "source": [
    "data['Dẫn động'] = data['Dẫn động'].apply(lambda x: x.split()[0])"
   ]
  },
  {
   "cell_type": "markdown",
   "metadata": {},
   "source": [
    "#### Change value in **Giá xe** column into *Triệu* unit"
   ]
  },
  {
   "cell_type": "code",
   "execution_count": null,
   "metadata": {},
   "outputs": [],
   "source": [
    "def convert_price(price):\n",
    "    price = price.split(\" \")[:-1]\n",
    "    if len(price) == 3:\n",
    "        return int(price[0])*1000 + int(price[2])\n",
    "    return int(price[0])\n",
    "data['Giá xe'] = data['Giá xe'].apply(convert_price)"
   ]
  },
  {
   "cell_type": "markdown",
   "metadata": {},
   "source": [
    "## Exploratory and Data Analynist"
   ]
  },
  {
   "cell_type": "code",
   "execution_count": null,
   "metadata": {},
   "outputs": [],
   "source": [
    "data.nunique()"
   ]
  },
  {
   "cell_type": "code",
   "execution_count": null,
   "metadata": {},
   "outputs": [],
   "source": [
    "\n",
    "numerical_cols = []\n",
    "categorical_cols = []\n",
    "for col in data.columns:\n",
    "    if len(data[col].unique()) < 6:\n",
    "        categorical_cols.append(col)\n",
    "    else:\n",
    "        numerical_cols.append(col)\n",
    "print(numerical_cols)\n",
    "print(categorical_cols)\n"
   ]
  },
  {
   "cell_type": "code",
   "execution_count": null,
   "metadata": {},
   "outputs": [],
   "source": [
    "for col in numerical_cols:\n",
    "    if data[col].dtypes == 'int64':\n",
    "        print(col)"
   ]
  },
  {
   "cell_type": "code",
   "execution_count": null,
   "metadata": {},
   "outputs": [],
   "source": [
    "#see datatype of each column\n",
    "data.dtypes"
   ]
  },
  {
   "cell_type": "code",
   "execution_count": null,
   "metadata": {},
   "outputs": [],
   "source": [
    "#draw box plot for each column\n",
    "for col in data.columns: \n",
    "    plt.figure()\n",
    "    sns.boxplot(x=data[col])\n"
   ]
  },
  {
   "cell_type": "markdown",
   "metadata": {},
   "source": [
    "## Data Vizualization"
   ]
  },
  {
   "cell_type": "code",
   "execution_count": null,
   "metadata": {},
   "outputs": [],
   "source": [
    "plt.figure(figsize=(10,6))\n",
    "plt.title('Car price distribution')\n",
    "plt.hist(data_origin['Giá xe'], bins=200)\n",
    "plt.show()"
   ]
  },
  {
   "cell_type": "code",
   "execution_count": null,
   "metadata": {},
   "outputs": [],
   "source": [
    "plt.figure(figsize=(10,6))\n",
    "plt.title('Car year distribution')\n",
    "plt.hist(data_origin['Năm sản xuất'], bins=50)\n",
    "plt.show()"
   ]
  }
 ],
 "metadata": {
  "kernelspec": {
   "display_name": "Python 3",
   "language": "python",
   "name": "python3"
  },
  "language_info": {
   "codemirror_mode": {
    "name": "ipython",
    "version": 3
   },
   "file_extension": ".py",
   "mimetype": "text/x-python",
   "name": "python",
   "nbconvert_exporter": "python",
   "pygments_lexer": "ipython3",
   "version": "3.10.4"
  }
 },
 "nbformat": 4,
 "nbformat_minor": 2
}
